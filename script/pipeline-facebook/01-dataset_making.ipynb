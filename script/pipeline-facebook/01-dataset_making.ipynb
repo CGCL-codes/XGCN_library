{
 "cells": [
  {
   "cell_type": "code",
   "execution_count": 1,
   "metadata": {},
   "outputs": [],
   "source": [
    "import gnn_zoo\n",
    "from gnn_zoo.utils import io\n",
    "from gnn_zoo.utils.utils import ensure_dir, set_random_seed"
   ]
  },
  {
   "cell_type": "code",
   "execution_count": 2,
   "metadata": {},
   "outputs": [],
   "source": [
    "import os.path as osp"
   ]
  },
  {
   "cell_type": "code",
   "execution_count": 3,
   "metadata": {},
   "outputs": [],
   "source": [
    "all_data_root = '/media/xreco/DEV/xiran/code/gnn_zoo_data'"
   ]
  },
  {
   "attachments": {},
   "cell_type": "markdown",
   "metadata": {},
   "source": [
    "#### load raw_graph.txt and save as CSR graph"
   ]
  },
  {
   "cell_type": "code",
   "execution_count": 4,
   "metadata": {},
   "outputs": [
    {
     "name": "stdout",
     "output_type": "stream",
     "text": [
      "/media/xreco/DEV/xiran/code/gnn_zoo_data/dataset/raw_facebook/raw_graph.txt\n"
     ]
    }
   ],
   "source": [
    "dataset = 'facebook'\n",
    "raw_data_root = osp.join(all_data_root, 'dataset/raw_' + dataset)\n",
    "file_raw_graph = osp.join(raw_data_root, 'raw_graph.txt')\n",
    "print(file_raw_graph)"
   ]
  },
  {
   "cell_type": "code",
   "execution_count": 5,
   "metadata": {},
   "outputs": [
    {
     "name": "stdout",
     "output_type": "stream",
     "text": [
      "[   0    0    0 ... 4027 4027 4031]\n",
      "[   1    2    3 ... 4032 4038 4038]\n"
     ]
    }
   ],
   "source": [
    "E_src, E_dst = io.txt_graph.load_edges(file_raw_graph)\n",
    "print(E_src)\n",
    "print(E_dst)"
   ]
  },
  {
   "cell_type": "code",
   "execution_count": 6,
   "metadata": {},
   "outputs": [
    {
     "name": "stdout",
     "output_type": "stream",
     "text": [
      "# from_edges_to_csr ...\n",
      "# remove_repeated_edges ...\n",
      "## 0 edges are removed\n",
      "{'graph_type': 'homo', 'num_nodes': 4039, 'num_edges': 88234}\n"
     ]
    }
   ],
   "source": [
    "info, indptr, indices = gnn_zoo.data.from_edges_to_csr(\n",
    "    E_src, E_dst, graph_type='homo'\n",
    ")\n",
    "print(info)"
   ]
  },
  {
   "cell_type": "code",
   "execution_count": 7,
   "metadata": {},
   "outputs": [],
   "source": [
    "raw_csr_root = osp.join(raw_data_root, 'csr')\n",
    "ensure_dir(raw_csr_root)\n",
    "\n",
    "io.save_yaml(osp.join(raw_csr_root, 'info.yaml'), info)\n",
    "io.save_pickle(osp.join(raw_csr_root, 'indptr.pkl'), indptr)\n",
    "io.save_pickle(osp.join(raw_csr_root, 'indices.pkl'), indices)"
   ]
  },
  {
   "attachments": {},
   "cell_type": "markdown",
   "metadata": {},
   "source": [
    "#### Split some edges as validation/test set"
   ]
  },
  {
   "cell_type": "code",
   "execution_count": 8,
   "metadata": {},
   "outputs": [
    {
     "name": "stdout",
     "output_type": "stream",
     "text": [
      "# init CSR_Graph_rev_rm_edge...\n",
      "sampling edges 9999/10000 (99.99%)\n",
      "num sampled edges: 10000\n",
      "# csr.to_compact(g.indptr, g.indices)...\n",
      "{'graph_type': 'homo', 'num_nodes': 4039, 'num_edges': 78234}\n"
     ]
    }
   ],
   "source": [
    "set_random_seed(1999)\n",
    "\n",
    "num_sample = 10_000\n",
    "min_src_out_degree = 3\n",
    "min_dst_in_degree = 1\n",
    "\n",
    "info, indptr, indices, pos_edges = gnn_zoo.data.edges_split(\n",
    "    info, indptr, indices,\n",
    "    num_sample, min_src_out_degree, min_dst_in_degree\n",
    ")\n",
    "print(info)"
   ]
  },
  {
   "cell_type": "code",
   "execution_count": 9,
   "metadata": {},
   "outputs": [],
   "source": [
    "data_root = osp.join(all_data_root, 'dataset/instance_' + dataset)\n",
    "ensure_dir(data_root)\n",
    "\n",
    "io.save_yaml(osp.join(data_root, 'info.yaml'), info)\n",
    "io.save_pickle(osp.join(data_root, 'indptr.pkl'), indptr)\n",
    "io.save_pickle(osp.join(data_root, 'indices.pkl'), indices)\n",
    "io.save_pickle(osp.join(data_root, 'pos_edges.pkl'), pos_edges)"
   ]
  },
  {
   "cell_type": "code",
   "execution_count": 11,
   "metadata": {},
   "outputs": [],
   "source": [
    "num_validation = 2000\n",
    "val_edges = pos_edges[:num_validation]\n",
    "test_edges = pos_edges[num_validation:]\n",
    "\n",
    "val_set = gnn_zoo.data.from_edges_to_adj_eval_set(val_edges)\n",
    "test_set = gnn_zoo.data.from_edges_to_adj_eval_set(test_edges)\n",
    "\n",
    "io.save_pickle(osp.join(data_root, 'val_set.pkl'), val_set)\n",
    "io.save_pickle(osp.join(data_root, 'test_set.pkl'), test_set)"
   ]
  },
  {
   "cell_type": "code",
   "execution_count": null,
   "metadata": {},
   "outputs": [],
   "source": []
  }
 ],
 "metadata": {
  "kernelspec": {
   "display_name": "pytorch",
   "language": "python",
   "name": "python3"
  },
  "language_info": {
   "codemirror_mode": {
    "name": "ipython",
    "version": 3
   },
   "file_extension": ".py",
   "mimetype": "text/x-python",
   "name": "python",
   "nbconvert_exporter": "python",
   "pygments_lexer": "ipython3",
   "version": "3.8.12"
  },
  "orig_nbformat": 4,
  "vscode": {
   "interpreter": {
    "hash": "47f4917743abf445e63ac4df24689761018614ad0ead7b330110d2c19a5a7277"
   }
  }
 },
 "nbformat": 4,
 "nbformat_minor": 2
}
