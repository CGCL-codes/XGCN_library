{
 "cells": [
  {
   "cell_type": "code",
   "execution_count": 1,
   "metadata": {},
   "outputs": [],
   "source": [
    "import XGCN\n",
    "from XGCN.utils import io\n",
    "from XGCN.utils.utils import print_dict, ensure_dir, set_random_seed"
   ]
  },
  {
   "cell_type": "code",
   "execution_count": 2,
   "metadata": {},
   "outputs": [],
   "source": [
    "import os.path as osp"
   ]
  },
  {
   "cell_type": "code",
   "execution_count": 3,
   "metadata": {},
   "outputs": [],
   "source": [
    "all_data_root = \"/media/xreco/DEV/xiran/code/XGCN_data\""
   ]
  },
  {
   "cell_type": "code",
   "execution_count": 4,
   "metadata": {},
   "outputs": [],
   "source": [
    "dataset_name = 'facebook'\n",
    "model_name = 'GraphSAGE'"
   ]
  },
  {
   "cell_type": "code",
   "execution_count": 5,
   "metadata": {},
   "outputs": [],
   "source": [
    "seed = 0\n",
    "dataset_root = osp.join(all_data_root, 'dataset/instance_' + dataset_name)\n",
    "file_val_set = osp.join(dataset_root, 'val_set.pkl')\n",
    "file_test_set = osp.join(dataset_root, 'test_set.pkl')\n",
    "\n",
    "results_dir = '[seed{}][cluster8-2]'.format(seed)\n",
    "results_root = osp.join(\n",
    "    all_data_root, 'model_output', dataset_name, model_name, results_dir\n",
    ")"
   ]
  },
  {
   "cell_type": "code",
   "execution_count": 6,
   "metadata": {},
   "outputs": [],
   "source": [
    "config = {\n",
    "    \"seed\": seed,\n",
    "    \"model\": model_name,\n",
    "\n",
    "    \"data_root\": dataset_root,\n",
    "    \"results_root\": results_root,\n",
    "    \n",
    "    \"partition_cache_filepath\": osp.join(results_root, 'partition_result.pkl'),\n",
    "    \"num_parts\": 8,\n",
    "    \"group_size\": 2,\n",
    "    \n",
    "    # \"Dataset_type\": \"BlockDataset\",\n",
    "    \"num_workers\": 0,\n",
    "    \"num_gcn_layers\": 2,\n",
    "    \"train_num_layer_sample\": \"[]\",\n",
    "\n",
    "    # \"NodeListDataset_type\": \"LinkDataset\",\n",
    "    # \"pos_sampler\": \"ObservedEdges_Sampler\",\n",
    "    # \"neg_sampler\": \"RandomNeg_Sampler\",\n",
    "    # \"num_neg\": 1,\n",
    "\n",
    "    # \"BatchSampleIndicesGenerator_type\": \"SampleIndicesWithReplacement\",\n",
    "    \"train_batch_size\": 2048,\n",
    "    # \"train_edge_sample_ratio\": 0.1,\n",
    "\n",
    "    \"val_evaluator\": \"WholeGraph_MultiPos_Evaluator\",\n",
    "    \"val_batch_size\": 256,\n",
    "    \"file_val_set\": file_val_set,\n",
    "\n",
    "    \"test_evaluator\": \"WholeGraph_MultiPos_Evaluator\",\n",
    "    \"test_batch_size\": 256,\n",
    "    \"file_test_set\": file_test_set,\n",
    "\n",
    "    \"epochs\": 200,\n",
    "    \"val_freq\": 1,\n",
    "    \"key_score_metric\": \"r100\",\n",
    "    \"convergence_threshold\": 20,\n",
    "    \n",
    "    \"forward_mode\": \"sub_graph\",\n",
    "    \"graph_device\": \"cpu\",\n",
    "    \"subgraph_device\": \"cuda\",\n",
    "    \"emb_table_device\": \"cuda\",\n",
    "    \"gnn_device\": \"cuda\",\n",
    "    \"out_emb_table_device\": \"cuda\",\n",
    "\n",
    "    \"from_pretrained\": 0,\n",
    "    \"file_pretrained_emb\": \"\",\n",
    "\n",
    "    \"freeze_emb\": 0,\n",
    "    \"use_sparse\": 0,\n",
    "\n",
    "    \"emb_dim\": 64,\n",
    "    \"emb_init_std\": 0.1,\n",
    "    \"emb_lr\": 0.01,\n",
    "\n",
    "    \"gnn_arch\": '[{\"in_feats\": 64, \"out_feats\": 64, \"aggregator_type\": \"pool\", \"activation\": torch.tanh}, {\"in_feats\": 64, \"out_feats\": 64, \"aggregator_type\": \"pool\"}]',\n",
    "    \"gnn_lr\": 0.01,\n",
    "\n",
    "    \"loss_type\": \"bpr\",\n",
    "    \"L2_reg_weight\": 0.0,\n",
    "\n",
    "    \"infer_num_layer_sample\": \"[]\"\n",
    "}"
   ]
  },
  {
   "cell_type": "code",
   "execution_count": 7,
   "metadata": {},
   "outputs": [],
   "source": [
    "set_random_seed(config['seed'])\n",
    "\n",
    "results_root = config['results_root']\n",
    "ensure_dir(results_root)\n",
    "io.save_yaml(osp.join(results_root, 'config.yaml'), config)"
   ]
  },
  {
   "cell_type": "code",
   "execution_count": 8,
   "metadata": {},
   "outputs": [],
   "source": [
    "data = {}\n",
    "model = XGCN.build_Model(config, data)\n",
    "\n",
    "train_dl = XGCN.build_DataLoader(config, data)\n",
    "\n",
    "val_evaluator = XGCN.build_val_Evaluator(config, data, model)\n",
    "test_evaluator = XGCN.build_test_Evaluator(config, data, model)\n",
    "\n",
    "trainer = XGCN.build_Trainer(config, data, model, train_dl, \n",
    "                                val_evaluator, test_evaluator)"
   ]
  },
  {
   "cell_type": "code",
   "execution_count": 9,
   "metadata": {},
   "outputs": [
    {
     "name": "stderr",
     "output_type": "stream",
     "text": [
      "/anaconda/envs/pytorch/lib/python3.8/site-packages/dgl/dataloading/dataloader.py:859: DGLWarning: Dataloader CPU affinity opt is not enabled, consider switching it on (see enable_cpu_affinity() or CPU best practices for DGL [https://docs.dgl.ai/tutorials/cpu/cpu_best_practises.html])\n",
      "  dgl_warning(f'Dataloader CPU affinity opt is not enabled, consider switching it on '\n",
      "val:   0%|          | 0/8 [00:00<?, ?it/s]/anaconda/envs/pytorch/lib/python3.8/site-packages/numba/typed/typeddict.py:33: NumbaTypeSafetyWarning: \u001b[1m\u001b[1m\u001b[1munsafe cast from float64 to float32. Precision may be lost.\u001b[0m\u001b[0m\u001b[0m\n",
      "  d[key] = value\n",
      "val: 100%|██████████| 8/8 [00:02<00:00,  2.81it/s]\n"
     ]
    },
    {
     "name": "stdout",
     "output_type": "stream",
     "text": [
      "val: {'r20': 0.023, 'r50': 0.0495, 'r100': 0.0725, 'r300': 0.1765, 'n20': 0.006376032903790475, 'n50': 0.011577807568013668, 'n100': 0.015310970462858679, 'n300': 0.02919703843072057}\n",
      ">> new best score - r100 : 0.0725\n",
      "train epoch 1\n"
     ]
    },
    {
     "name": "stderr",
     "output_type": "stream",
     "text": [
      "  0%|          | 0/4 [00:00<?, ?it/s]/anaconda/envs/pytorch/lib/python3.8/site-packages/dgl/dataloading/dataloader.py:859: DGLWarning: Dataloader CPU affinity opt is not enabled, consider switching it on (see enable_cpu_affinity() or CPU best practices for DGL [https://docs.dgl.ai/tutorials/cpu/cpu_best_practises.html])\n",
      "  dgl_warning(f'Dataloader CPU affinity opt is not enabled, consider switching it on '\n",
      "74it [00:00, 94.67it/s]              \n",
      "val: 100%|██████████| 8/8 [00:00<00:00, 11.35it/s]\n"
     ]
    },
    {
     "name": "stdout",
     "output_type": "stream",
     "text": [
      "val: {'r20': 0.2125, 'r50': 0.3865, 'r100': 0.545, 'r300': 0.773, 'n20': 0.08200331737846137, 'n50': 0.11659545716643334, 'n100': 0.14217576391994954, 'n300': 0.17286243205890062}\n",
      ">> new best score - r100 : 0.545\n",
      "train epoch 2\n"
     ]
    },
    {
     "name": "stderr",
     "output_type": "stream",
     "text": [
      "75it [00:00, 82.70it/s]              \n",
      "val: 100%|██████████| 8/8 [00:00<00:00, 11.72it/s]\n"
     ]
    },
    {
     "name": "stdout",
     "output_type": "stream",
     "text": [
      "val: {'r20': 0.21750000000000003, 'r50': 0.3765, 'r100': 0.548, 'r300': 0.7735000000000001, 'n20': 0.08010385914891958, 'n50': 0.11140814793854951, 'n100': 0.1391450522840023, 'n300': 0.16971439379826186}\n",
      ">> new best score - r100 : 0.548\n",
      "train epoch 3\n"
     ]
    },
    {
     "name": "stderr",
     "output_type": "stream",
     "text": [
      "75it [00:00, 93.78it/s]              \n",
      "val: 100%|██████████| 8/8 [00:00<00:00, 11.78it/s]\n"
     ]
    },
    {
     "name": "stdout",
     "output_type": "stream",
     "text": [
      "val: {'r20': 0.254, 'r50': 0.4565, 'r100': 0.627, 'r300': 0.8305, 'n20': 0.08618625354766846, 'n50': 0.12625139208137992, 'n100': 0.15390588760375978, 'n300': 0.18158616364747288}\n",
      ">> new best score - r100 : 0.627\n",
      "train epoch 4\n"
     ]
    },
    {
     "name": "stderr",
     "output_type": "stream",
     "text": [
      "75it [00:00, 85.09it/s]              \n",
      "val: 100%|██████████| 8/8 [00:00<00:00, 11.79it/s]\n"
     ]
    },
    {
     "name": "stdout",
     "output_type": "stream",
     "text": [
      "val: {'r20': 0.1355, 'r50': 0.28850000000000003, 'r100': 0.444, 'r300': 0.752, 'n20': 0.04838614316284656, 'n50': 0.07866126888245344, 'n100': 0.10384456320852042, 'n300': 0.14514034586027263}\n",
      ">> distance_between_best_epoch: 1 threshold: 20\n",
      "train epoch 5\n"
     ]
    },
    {
     "name": "stderr",
     "output_type": "stream",
     "text": [
      "75it [00:00, 92.38it/s]              \n",
      "val: 100%|██████████| 8/8 [00:00<00:00, 11.63it/s]\n"
     ]
    },
    {
     "name": "stdout",
     "output_type": "stream",
     "text": [
      "val: {'r20': 0.185, 'r50': 0.373, 'r100': 0.545, 'r300': 0.794, 'n20': 0.06761031030863524, 'n50': 0.10477740429341793, 'n100': 0.1327407001629472, 'n300': 0.16652721863240005}\n",
      ">> distance_between_best_epoch: 2 threshold: 20\n",
      "train epoch 6\n"
     ]
    },
    {
     "name": "stderr",
     "output_type": "stream",
     "text": [
      "75it [00:00, 93.85it/s]              \n",
      "val: 100%|██████████| 8/8 [00:00<00:00, 11.88it/s]\n"
     ]
    },
    {
     "name": "stdout",
     "output_type": "stream",
     "text": [
      "val: {'r20': 0.195, 'r50': 0.3605, 'r100': 0.5215000000000001, 'r300': 0.7885, 'n20': 0.06947568245232105, 'n50': 0.10223319512605666, 'n100': 0.12844292387366293, 'n300': 0.16451227578520777}\n",
      ">> distance_between_best_epoch: 3 threshold: 20\n",
      "train epoch 7\n"
     ]
    },
    {
     "name": "stderr",
     "output_type": "stream",
     "text": [
      "75it [00:00, 83.24it/s]              \n",
      "val: 100%|██████████| 8/8 [00:00<00:00, 11.84it/s]\n"
     ]
    },
    {
     "name": "stdout",
     "output_type": "stream",
     "text": [
      "val: {'r20': 0.184, 'r50': 0.356, 'r100': 0.5155000000000001, 'r300': 0.76, 'n20': 0.06242803066968918, 'n50': 0.0966092528924346, 'n100': 0.12235618705302478, 'n300': 0.1553657201975584}\n",
      ">> distance_between_best_epoch: 4 threshold: 20\n",
      "train epoch 8\n"
     ]
    },
    {
     "name": "stderr",
     "output_type": "stream",
     "text": [
      "76it [00:00, 94.45it/s]              \n",
      "val: 100%|██████████| 8/8 [00:00<00:00, 11.54it/s]\n"
     ]
    },
    {
     "name": "stdout",
     "output_type": "stream",
     "text": [
      "val: {'r20': 0.1405, 'r50': 0.28, 'r100': 0.44499999999999995, 'r300': 0.727, 'n20': 0.049304743938148016, 'n50': 0.07677892279624939, 'n100': 0.10350973045825959, 'n300': 0.1412840737812221}\n",
      ">> distance_between_best_epoch: 5 threshold: 20\n",
      "train epoch 9\n"
     ]
    },
    {
     "name": "stderr",
     "output_type": "stream",
     "text": [
      "74it [00:00, 92.85it/s]              \n",
      "val: 100%|██████████| 8/8 [00:00<00:00, 11.76it/s]\n"
     ]
    },
    {
     "name": "stdout",
     "output_type": "stream",
     "text": [
      "val: {'r20': 0.2275, 'r50': 0.3915, 'r100': 0.5375000000000001, 'r300': 0.788, 'n20': 0.07687943713366985, 'n50': 0.10919061303138733, 'n100': 0.13297558528929948, 'n300': 0.1667641249448061}\n",
      ">> distance_between_best_epoch: 6 threshold: 20\n",
      "train epoch 10\n"
     ]
    },
    {
     "name": "stderr",
     "output_type": "stream",
     "text": [
      "74it [00:00, 93.94it/s]              \n",
      "val: 100%|██████████| 8/8 [00:00<00:00, 11.65it/s]\n"
     ]
    },
    {
     "name": "stdout",
     "output_type": "stream",
     "text": [
      "val: {'r20': 0.243, 'r50': 0.4605, 'r100': 0.6365, 'r300': 0.8695, 'n20': 0.08747658411413431, 'n50': 0.13026535496115682, 'n100': 0.1587206047922373, 'n300': 0.19043571224808692}\n",
      ">> new best score - r100 : 0.6365\n",
      "train epoch 11\n"
     ]
    },
    {
     "name": "stderr",
     "output_type": "stream",
     "text": [
      "75it [00:00, 94.27it/s]              \n",
      "val: 100%|██████████| 8/8 [00:00<00:00, 12.00it/s]\n"
     ]
    },
    {
     "name": "stdout",
     "output_type": "stream",
     "text": [
      "val: {'r20': 0.177, 'r50': 0.33749999999999997, 'r100': 0.522, 'r300': 0.821, 'n20': 0.06016192609071731, 'n50': 0.09178349446505309, 'n100': 0.12178446788340808, 'n300': 0.16236013805121183}\n",
      ">> distance_between_best_epoch: 1 threshold: 20\n",
      "train epoch 12\n"
     ]
    },
    {
     "name": "stderr",
     "output_type": "stream",
     "text": [
      "76it [00:00, 84.83it/s]              \n",
      "val: 100%|██████████| 8/8 [00:00<00:00, 11.41it/s]\n"
     ]
    },
    {
     "name": "stdout",
     "output_type": "stream",
     "text": [
      "val: {'r20': 0.23349999999999999, 'r50': 0.43, 'r100': 0.6065, 'r300': 0.851, 'n20': 0.08639779559522867, 'n50': 0.12508303473889826, 'n100': 0.15367623800784352, 'n300': 0.18678112192451954}\n",
      ">> distance_between_best_epoch: 2 threshold: 20\n",
      "train epoch 13\n"
     ]
    },
    {
     "name": "stderr",
     "output_type": "stream",
     "text": [
      "75it [00:00, 92.89it/s]              \n",
      "val: 100%|██████████| 8/8 [00:00<00:00, 11.92it/s]\n"
     ]
    },
    {
     "name": "stdout",
     "output_type": "stream",
     "text": [
      "val: {'r20': 0.2265, 'r50': 0.41600000000000004, 'r100': 0.625, 'r300': 0.892, 'n20': 0.07799983543157578, 'n50': 0.11533568876236677, 'n100': 0.14917067636549472, 'n300': 0.18545357714220884}\n",
      ">> distance_between_best_epoch: 3 threshold: 20\n",
      "train epoch 14\n"
     ]
    },
    {
     "name": "stderr",
     "output_type": "stream",
     "text": [
      "23it [00:00, 89.72it/s]              \n",
      "test: 100%|██████████| 11/11 [00:00<00:00, 11.41it/s]"
     ]
    },
    {
     "name": "stdout",
     "output_type": "stream",
     "text": [
      "test: {'r20': 0.2268947520408134, 'r50': 0.4298230023020434, 'r100': 0.639047283841216, 'r300': 0.8895521520803592, 'n20': 0.10778731456078214, 'n50': 0.16311242970945322, 'n100': 0.209644807172051, 'n300': 0.25663913208898353, 'formatted': 'r20:0.2269 || r50:0.4298 || r100:0.6390 || r300:0.8896 || n20:0.1078 || n50:0.1631 || n100:0.2096 || n300:0.2566 || '}\n"
     ]
    },
    {
     "name": "stderr",
     "output_type": "stream",
     "text": [
      "\n"
     ]
    }
   ],
   "source": [
    "trainer.train_and_test()"
   ]
  },
  {
   "cell_type": "code",
   "execution_count": null,
   "metadata": {},
   "outputs": [],
   "source": []
  }
 ],
 "metadata": {
  "kernelspec": {
   "display_name": "pytorch",
   "language": "python",
   "name": "python3"
  },
  "language_info": {
   "codemirror_mode": {
    "name": "ipython",
    "version": 3
   },
   "file_extension": ".py",
   "mimetype": "text/x-python",
   "name": "python",
   "nbconvert_exporter": "python",
   "pygments_lexer": "ipython3",
   "version": "3.8.12"
  },
  "orig_nbformat": 4,
  "vscode": {
   "interpreter": {
    "hash": "47f4917743abf445e63ac4df24689761018614ad0ead7b330110d2c19a5a7277"
   }
  }
 },
 "nbformat": 4,
 "nbformat_minor": 2
}
