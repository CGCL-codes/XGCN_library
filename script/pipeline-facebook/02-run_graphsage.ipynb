{
 "cells": [
  {
   "cell_type": "code",
   "execution_count": null,
   "metadata": {},
   "outputs": [],
   "source": [
    "import XGCN\n",
    "from XGCN.utils import io\n",
    "from XGCN.utils.utils import print_dict, ensure_dir, set_random_seed"
   ]
  },
  {
   "cell_type": "code",
   "execution_count": null,
   "metadata": {},
   "outputs": [],
   "source": [
    "import os.path as osp"
   ]
  },
  {
   "cell_type": "code",
   "execution_count": null,
   "metadata": {},
   "outputs": [],
   "source": [
    "all_data_root = \"/media/xreco/DEV/xiran/code/XGCN_data\""
   ]
  },
  {
   "cell_type": "code",
   "execution_count": null,
   "metadata": {},
   "outputs": [],
   "source": [
    "dataset_name = 'facebook'\n",
    "model_name = 'GraphSAGE'"
   ]
  },
  {
   "cell_type": "code",
   "execution_count": null,
   "metadata": {},
   "outputs": [],
   "source": [
    "seed = 0\n",
    "dataset_root = osp.join(all_data_root, 'dataset/instance_' + dataset_name)\n",
    "file_val_set = osp.join(dataset_root, 'val_set.pkl')\n",
    "file_test_set = osp.join(dataset_root, 'test_set.pkl')\n",
    "\n",
    "results_dir = '[seed{}]'.format(seed)\n",
    "results_root = osp.join(\n",
    "    all_data_root, 'model_output', dataset_name, model_name, results_dir\n",
    ")"
   ]
  },
  {
   "cell_type": "code",
   "execution_count": null,
   "metadata": {},
   "outputs": [],
   "source": [
    "config = {\n",
    "    \"seed\": seed,\n",
    "    \"model\": model_name,\n",
    "\n",
    "    \"data_root\": dataset_root,\n",
    "    \"results_root\": results_root,\n",
    "\n",
    "    \"Dataset_type\": \"BlockDataset\",\n",
    "    \"num_workers\": 0,\n",
    "    \"num_gcn_layers\": 2,\n",
    "    \"train_num_layer_sample\": \"[10, 10]\",\n",
    "\n",
    "    \"NodeListDataset_type\": \"LinkDataset\",\n",
    "    \"pos_sampler\": \"ObservedEdges_Sampler\",\n",
    "    \"neg_sampler\": \"RandomNeg_Sampler\",\n",
    "    \"num_neg\": 1,\n",
    "\n",
    "    \"BatchSampleIndicesGenerator_type\": \"SampleIndicesWithReplacement\",\n",
    "    \"train_batch_size\": 2048,\n",
    "    \"epoch_sample_ratio\": 0.1,\n",
    "\n",
    "    \"val_evaluator\": \"WholeGraph_MultiPos_Evaluator\",\n",
    "    \"val_batch_size\": 256,\n",
    "    \"file_val_set\": file_val_set,\n",
    "\n",
    "    \"test_evaluator\": \"WholeGraph_MultiPos_Evaluator\",\n",
    "    \"test_batch_size\": 256,\n",
    "    \"file_test_set\": file_test_set,\n",
    "\n",
    "    \"epochs\": 200,\n",
    "    \"val_freq\": 1,\n",
    "    \"key_score_metric\": \"r100\",\n",
    "    \"convergence_threshold\": 20,\n",
    "    \n",
    "    \"forward_mode\": \"sample\",\n",
    "    \"graph_device\": \"cuda\",\n",
    "    \"emb_table_device\": \"cuda\",\n",
    "    \"gnn_device\": \"cuda\",\n",
    "    \"out_emb_table_device\": \"cuda\",\n",
    "\n",
    "    \"from_pretrained\": 0,\n",
    "    \"file_pretrained_emb\": \"\",\n",
    "\n",
    "    \"freeze_emb\": 0,\n",
    "    \"use_sparse\": 0,\n",
    "\n",
    "    \"emb_dim\": 64,\n",
    "    \"emb_init_std\": 0.1,\n",
    "    \"emb_lr\": 0.01,\n",
    "\n",
    "    \"gnn_arch\": '[{\"in_feats\": 64, \"out_feats\": 64, \"aggregator_type\": \"pool\", \"activation\": torch.tanh}, {\"in_feats\": 64, \"out_feats\": 64, \"aggregator_type\": \"pool\"}]',\n",
    "    \"gnn_lr\": 0.01,\n",
    "\n",
    "    \"loss_type\": \"bpr\",\n",
    "    \"L2_reg_weight\": 0.0,\n",
    "\n",
    "    \"infer_num_layer_sample\": \"[]\"\n",
    "}"
   ]
  },
  {
   "cell_type": "code",
   "execution_count": null,
   "metadata": {},
   "outputs": [],
   "source": [
    "set_random_seed(config['seed'])\n",
    "\n",
    "results_root = config['results_root']\n",
    "ensure_dir(results_root)\n",
    "io.save_yaml(osp.join(results_root, 'config.yaml'), config)"
   ]
  },
  {
   "cell_type": "code",
   "execution_count": null,
   "metadata": {},
   "outputs": [],
   "source": [
    "data = {}\n",
    "model = XGCN.build_Model(config, data)\n",
    "\n",
    "train_dl = XGCN.build_DataLoader(config, data)\n",
    "\n",
    "val_evaluator = XGCN.build_val_Evaluator(config, data, model)\n",
    "test_evaluator = XGCN.build_test_Evaluator(config, data, model)\n",
    "\n",
    "trainer = XGCN.build_Trainer(config, data, model, train_dl, \n",
    "                                val_evaluator, test_evaluator)"
   ]
  },
  {
   "cell_type": "code",
   "execution_count": null,
   "metadata": {},
   "outputs": [],
   "source": [
    "trainer.train_and_test()"
   ]
  },
  {
   "cell_type": "code",
   "execution_count": null,
   "metadata": {},
   "outputs": [],
   "source": []
  }
 ],
 "metadata": {
  "kernelspec": {
   "display_name": "pytorch",
   "language": "python",
   "name": "python3"
  },
  "language_info": {
   "codemirror_mode": {
    "name": "ipython",
    "version": 3
   },
   "file_extension": ".py",
   "mimetype": "text/x-python",
   "name": "python",
   "nbconvert_exporter": "python",
   "pygments_lexer": "ipython3",
   "version": "3.8.12"
  },
  "orig_nbformat": 4,
  "vscode": {
   "interpreter": {
    "hash": "47f4917743abf445e63ac4df24689761018614ad0ead7b330110d2c19a5a7277"
   }
  }
 },
 "nbformat": 4,
 "nbformat_minor": 2
}
