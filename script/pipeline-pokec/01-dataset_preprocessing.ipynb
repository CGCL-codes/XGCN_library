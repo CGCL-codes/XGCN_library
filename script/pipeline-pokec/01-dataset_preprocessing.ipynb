{
 "cells": [
  {
   "cell_type": "code",
   "execution_count": 1,
   "metadata": {},
   "outputs": [],
   "source": [
    "import gnn_zoo\n",
    "from gnn_zoo.utils import io\n",
    "from gnn_zoo.utils.utils import ensure_dir, print_dict"
   ]
  },
  {
   "cell_type": "code",
   "execution_count": 4,
   "metadata": {},
   "outputs": [],
   "source": [
    "import os.path as osp"
   ]
  },
  {
   "cell_type": "code",
   "execution_count": 5,
   "metadata": {},
   "outputs": [],
   "source": [
    "all_data_root = '/media/xreco/DEV/xiran/code/gnn_zoo_data'"
   ]
  },
  {
   "cell_type": "code",
   "execution_count": 6,
   "metadata": {},
   "outputs": [],
   "source": [
    "dataset = 'pokec'\n",
    "data_root = osp.join(all_data_root, 'dataset/instance_' + dataset)"
   ]
  },
  {
   "cell_type": "code",
   "execution_count": 7,
   "metadata": {},
   "outputs": [
    {
     "name": "stdout",
     "output_type": "stream",
     "text": [
      "[      0       0       0 ... 1632801 1632801 1632802]\n",
      "[      2       3       4 ... 1632636 1632735 1632404]\n"
     ]
    }
   ],
   "source": [
    "E_src, E_dst = io.txt_graph.load_edges(osp.join(data_root, 'train.txt'))\n",
    "print(E_src)\n",
    "print(E_dst)"
   ]
  },
  {
   "cell_type": "code",
   "execution_count": 8,
   "metadata": {},
   "outputs": [
    {
     "name": "stdout",
     "output_type": "stream",
     "text": [
      "# from_edges_to_csr ...\n",
      "# remove_repeated_edges ...\n",
      "## 0 edges are removed\n",
      "{'graph_type': 'homo', 'num_nodes': 1632803, 'num_edges': 27560308}\n"
     ]
    }
   ],
   "source": [
    "info, indptr, indices = gnn_zoo.data.from_edges_to_csr(\n",
    "    E_src, E_dst, graph_type='homo'\n",
    ")\n",
    "print(info)"
   ]
  },
  {
   "cell_type": "code",
   "execution_count": null,
   "metadata": {},
   "outputs": [],
   "source": [
    "io.save_yaml(osp.join(data_root, 'info.yaml'), info)\n",
    "io.save_pickle(osp.join(data_root, 'indptr.pkl'), indptr)\n",
    "io.save_pickle(osp.join(data_root, 'indices.pkl'), indices)"
   ]
  },
  {
   "cell_type": "code",
   "execution_count": null,
   "metadata": {},
   "outputs": [],
   "source": []
  }
 ],
 "metadata": {
  "kernelspec": {
   "display_name": "pytorch",
   "language": "python",
   "name": "python3"
  },
  "language_info": {
   "codemirror_mode": {
    "name": "ipython",
    "version": 3
   },
   "file_extension": ".py",
   "mimetype": "text/x-python",
   "name": "python",
   "nbconvert_exporter": "python",
   "pygments_lexer": "ipython3",
   "version": "3.8.12"
  },
  "orig_nbformat": 4,
  "vscode": {
   "interpreter": {
    "hash": "47f4917743abf445e63ac4df24689761018614ad0ead7b330110d2c19a5a7277"
   }
  }
 },
 "nbformat": 4,
 "nbformat_minor": 2
}
