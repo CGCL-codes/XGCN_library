{
 "cells": [
  {
   "cell_type": "code",
   "execution_count": 1,
   "metadata": {},
   "outputs": [
    {
     "name": "stderr",
     "output_type": "stream",
     "text": [
      "/home/wuyao/songxiran/env/XGCN/lib/python3.9/site-packages/tqdm/auto.py:21: TqdmWarning: IProgress not found. Please update jupyter and ipywidgets. See https://ipywidgets.readthedocs.io/en/stable/user_install.html\n",
      "  from .autonotebook import tqdm as notebook_tqdm\n"
     ]
    }
   ],
   "source": [
    "import XGCN\n",
    "from XGCN.data import io, csr\n",
    "from XGCN.utils.utils import ensure_dir, set_random_seed\n",
    "\n",
    "import os.path as osp"
   ]
  },
  {
   "attachments": {},
   "cell_type": "markdown",
   "metadata": {},
   "source": [
    "## Prepare the raw data\n",
    "\n",
    "Let's begin with a small social network dataset: facebook.\n",
    "The data is included in the XGCN repository: ``data/raw_facebook``. \n",
    "You can also download it from SNAP: http://snap.stanford.edu/data/facebook_combined.txt.gz .\n",
    "\n",
    "We recommend to arrange the data with a clear directory structure. \n",
    "To get started, you may manually setup an ``XGCN_data`` (or other names you like) directory as follows: \n",
    "(It's recommended to put your ``XGCN_data`` somewhere else than in this repository.)\n",
    "\n",
    "```\n",
    "XGCN_data\n",
    "└── dataset\n",
    "    └── raw_facebook\n",
    "        └── facebook_combined.txt\n",
    "```\n",
    "\n",
    "From now on, we'll use this directory to hold all the different datasets \n",
    "and models outputs. \n",
    "We refer to its path as ``all_data_root`` in our python code and shell scripts. \n"
   ]
  },
  {
   "cell_type": "code",
   "execution_count": 2,
   "metadata": {},
   "outputs": [],
   "source": [
    "# set your own all_data_root:\n",
    "all_data_root = '/home/wuyao/songxiran/code/XGCN_coda_and_data/data'"
   ]
  },
  {
   "attachments": {},
   "cell_type": "markdown",
   "metadata": {},
   "source": [
    "### Load the raw graph"
   ]
  },
  {
   "cell_type": "code",
   "execution_count": 9,
   "metadata": {},
   "outputs": [
    {
     "name": "stdout",
     "output_type": "stream",
     "text": [
      "/home/wuyao/songxiran/code/XGCN_coda_and_data/data/dataset/raw_facebook/facebook_combined.txt\n"
     ]
    }
   ],
   "source": [
    "dataset = 'facebook'\n",
    "raw_data_root = osp.join(all_data_root, 'dataset/raw_' + dataset)\n",
    "file_raw_graph = osp.join(raw_data_root, 'facebook_combined.txt')\n",
    "print(file_raw_graph)"
   ]
  },
  {
   "cell_type": "code",
   "execution_count": 10,
   "metadata": {},
   "outputs": [
    {
     "name": "stdout",
     "output_type": "stream",
     "text": [
      "[   0    0    0 ... 4027 4027 4031]\n",
      "[   1    2    3 ... 4032 4038 4038]\n"
     ]
    }
   ],
   "source": [
    "E_src, E_dst = io.load_txt_edges(file_raw_graph)\n",
    "print(E_src)\n",
    "print(E_dst)"
   ]
  },
  {
   "cell_type": "code",
   "execution_count": 11,
   "metadata": {},
   "outputs": [
    {
     "name": "stdout",
     "output_type": "stream",
     "text": [
      "# from_edges_to_csr ...\n",
      "# remove_repeated_edges ...\n",
      "## 0 edges are removed\n",
      "{'graph_type': 'homo', 'num_nodes': 4039, 'num_edges': 88234}\n"
     ]
    }
   ],
   "source": [
    "info, indptr, indices = csr.from_edges_to_csr_with_info(\n",
    "    E_src, E_dst, graph_type='homo'\n",
    ")\n",
    "print(info)"
   ]
  },
  {
   "attachments": {},
   "cell_type": "markdown",
   "metadata": {},
   "source": [
    "Loading large graphs from text files can be time-consuming (though the facebook graph here is a small one), we can cache the graph using ``io.save_pickle``: "
   ]
  },
  {
   "cell_type": "code",
   "execution_count": 12,
   "metadata": {},
   "outputs": [],
   "source": [
    "raw_csr_root = osp.join(raw_data_root, 'csr')\n",
    "ensure_dir(raw_csr_root)\n",
    "\n",
    "io.save_yaml(osp.join(raw_csr_root, 'info.yaml'), info)\n",
    "io.save_pickle(osp.join(raw_csr_root, 'indptr.pkl'), indptr)\n",
    "io.save_pickle(osp.join(raw_csr_root, 'indices.pkl'), indices)"
   ]
  },
  {
   "attachments": {},
   "cell_type": "markdown",
   "metadata": {},
   "source": [
    "## Split validation/test set\n",
    "\n",
    "Assume that we don't have existing evaluation set \n",
    "and want to split some edges for model evaluation."
   ]
  },
  {
   "cell_type": "code",
   "execution_count": 13,
   "metadata": {},
   "outputs": [
    {
     "name": "stdout",
     "output_type": "stream",
     "text": [
      "sampling edges 9999/10000 (99.99%)\n",
      "num sampled edges: 10000\n",
      "{'graph_type': 'homo', 'num_nodes': 4039, 'num_edges': 78234}\n"
     ]
    }
   ],
   "source": [
    "set_random_seed(1999)\n",
    "\n",
    "num_sample = 10_000       # number of edges to split\n",
    "min_src_out_degree = 3    # guarantee the minimum out-degree of a source node\n",
    "min_dst_in_degree = 1     # guarantee the minimum in-degree of a destination node\n",
    "\n",
    "indptr, indices, pos_edges = XGCN.data.split_edges(\n",
    "    indptr, indices,\n",
    "    num_sample, min_src_out_degree, min_dst_in_degree\n",
    ")\n",
    "info['num_edges'] = len(indices)\n",
    "print(info)"
   ]
  },
  {
   "attachments": {},
   "cell_type": "markdown",
   "metadata": {},
   "source": [
    "Now we have all the positive edges: ``pos_edges``, let's divide them for \n",
    "validation set and test set, and we’ll use the \"whole-graph-multi-pos\" evaluation method:"
   ]
  },
  {
   "cell_type": "code",
   "execution_count": 14,
   "metadata": {},
   "outputs": [],
   "source": [
    "num_validation = 2000\n",
    "val_edges = pos_edges[:num_validation]\n",
    "test_edges = pos_edges[num_validation:]\n",
    "\n",
    "val_set = XGCN.data.from_edges_to_adj_eval_set(val_edges)\n",
    "test_set = XGCN.data.from_edges_to_adj_eval_set(test_edges)"
   ]
  },
  {
   "cell_type": "markdown",
   "metadata": {},
   "source": [
    "Now we have already generated a complete dataset instance, let's save it:"
   ]
  },
  {
   "cell_type": "code",
   "execution_count": 16,
   "metadata": {},
   "outputs": [],
   "source": [
    "data_root = osp.join(all_data_root, 'dataset/instance_' + dataset)\n",
    "ensure_dir(data_root)\n",
    "\n",
    "io.save_yaml(osp.join(data_root, 'info.yaml'), info)\n",
    "io.save_pickle(osp.join(data_root, 'indptr.pkl'), indptr)\n",
    "io.save_pickle(osp.join(data_root, 'indices.pkl'), indices)\n",
    "io.save_pickle(osp.join(data_root, 'pos_edges.pkl'), pos_edges)\n",
    "io.save_pickle(osp.join(data_root, 'val_set.pkl'), val_set)\n",
    "io.save_pickle(osp.join(data_root, 'test_set.pkl'), test_set)"
   ]
  },
  {
   "attachments": {},
   "cell_type": "markdown",
   "metadata": {},
   "source": [
    "Here we also save the ``pos_edges``, so you can use it to make evaluation sets for \n",
    "\"one-pos-k-neg\" or \"whole-graph-one-pos\" method by concatenating some randomly \n",
    "sampled negative nodes. \n",
    "\n",
    "If you have done the above steps successfully, your data directory will be like follows: \n",
    "\n",
    "```\n",
    "XGCN_data\n",
    "└── dataset\n",
    "    ├── raw_facebook\n",
    "    |   ├── facebook_combined.txt\n",
    "    |   └── csr\n",
    "    |       ├── indices.pkl\n",
    "    |       ├── indptr.pkl\n",
    "    |       └── info.yaml\n",
    "    └── instance_facebook\n",
    "        ├── indices.pkl\n",
    "        ├── indptr.pkl\n",
    "        ├── \n",
    "        ├── pos_edges.pkl\n",
    "        ├── test_set.pkl\n",
    "        └── val_set.pkl\n",
    "```\n"
   ]
  },
  {
   "cell_type": "markdown",
   "metadata": {},
   "source": []
  }
 ],
 "metadata": {
  "kernelspec": {
   "display_name": "songxrian-XGCN",
   "language": "python",
   "name": "xgcn"
  },
  "language_info": {
   "codemirror_mode": {
    "name": "ipython",
    "version": 3
   },
   "file_extension": ".py",
   "mimetype": "text/x-python",
   "name": "python",
   "nbconvert_exporter": "python",
   "pygments_lexer": "ipython3",
   "version": "3.9.12"
  },
  "orig_nbformat": 4,
  "vscode": {
   "interpreter": {
    "hash": "47f4917743abf445e63ac4df24689761018614ad0ead7b330110d2c19a5a7277"
   }
  }
 },
 "nbformat": 4,
 "nbformat_minor": 2
}
