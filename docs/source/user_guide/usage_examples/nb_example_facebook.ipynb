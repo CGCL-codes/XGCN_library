{
 "cells": [
  {
   "attachments": {},
   "cell_type": "markdown",
   "metadata": {},
   "source": [
    "# Example: facebook\n",
    "\n",
    "## Prepare the Dataset Instance\n",
    "\n",
    "Let's begin with a small social network dataset: facebook.\n",
    "The data is included in the XGCN repository: ``data/raw_facebook``. \n",
    "You can also download it from SNAP: http://snap.stanford.edu/data/facebook_combined.txt.gz .\n",
    "\n",
    "We recommend to arrange the data with a clear directory structure. \n",
    "To get started, you may manually setup an ``XGCN_data`` (or other names you like) directory as follows: \n",
    "(It's recommended to put your ``XGCN_data`` somewhere else than in this repository.)\n",
    "\n",
    "```\n",
    "XGCN_data\n",
    "└── dataset\n",
    "    └── raw_facebook\n",
    "        └── facebook_combined.txt\n",
    "```\n",
    "\n",
    "From now on, we'll use this directory to hold all the different datasets \n",
    "and models outputs. \n",
    "We refer to its path as ``all_data_root`` in our python code and shell scripts. \n"
   ]
  },
  {
   "cell_type": "code",
   "execution_count": 1,
   "metadata": {},
   "outputs": [],
   "source": [
    "import XGCN\n",
    "from XGCN.data import io, csr\n",
    "from XGCN.utils.utils import ensure_dir, set_random_seed\n",
    "import os.path as osp"
   ]
  },
  {
   "cell_type": "code",
   "execution_count": 3,
   "metadata": {},
   "outputs": [],
   "source": [
    "# set your own all_data_root:\n",
    "all_data_root = '/home/sxr/code/XGCN_and_data/XGCN_data'"
   ]
  },
  {
   "attachments": {},
   "cell_type": "markdown",
   "metadata": {},
   "source": [
    "### Load & save the raw graph"
   ]
  },
  {
   "cell_type": "code",
   "execution_count": 5,
   "metadata": {},
   "outputs": [
    {
     "name": "stdout",
     "output_type": "stream",
     "text": [
      "[   0    0    0 ... 4027 4027 4031]\n",
      "[   1    2    3 ... 4032 4038 4038]\n"
     ]
    }
   ],
   "source": [
    "dataset = 'facebook'\n",
    "raw_data_root = osp.join(all_data_root, 'dataset/raw_' + dataset)\n",
    "file_raw_graph = osp.join(raw_data_root, 'facebook_combined.txt')\n",
    "E_src, E_dst = io.load_txt_edges(file_raw_graph)\n",
    "print(E_src)\n",
    "print(E_dst)"
   ]
  },
  {
   "cell_type": "code",
   "execution_count": 6,
   "metadata": {},
   "outputs": [
    {
     "name": "stdout",
     "output_type": "stream",
     "text": [
      "# from_edges_to_csr ...\n",
      "# remove_repeated_edges ...\n",
      "## 0 edges are removed\n",
      "{'graph_type': 'homo', 'num_nodes': 4039, 'num_edges': 88234}\n"
     ]
    }
   ],
   "source": [
    "info, indptr, indices = csr.from_edges_to_csr_with_info(\n",
    "    E_src, E_dst, graph_type='homo'\n",
    ")\n",
    "print(info)"
   ]
  },
  {
   "cell_type": "markdown",
   "metadata": {},
   "source": [
    "Loading large graphs from text files can be time-consuming (though the facebook graph here is a small one), we can cache the graph using ``io.save_pickle``: "
   ]
  },
  {
   "cell_type": "code",
   "execution_count": 7,
   "metadata": {},
   "outputs": [],
   "source": [
    "raw_csr_root = osp.join(raw_data_root, 'csr')\n",
    "ensure_dir(raw_csr_root)  # mkdir if not exists\n",
    "\n",
    "io.save_yaml(osp.join(raw_csr_root, 'info.yaml'), info)\n",
    "io.save_pickle(osp.join(raw_csr_root, 'indptr.pkl'), indptr)\n",
    "io.save_pickle(osp.join(raw_csr_root, 'indices.pkl'), indices)"
   ]
  },
  {
   "attachments": {},
   "cell_type": "markdown",
   "metadata": {},
   "source": [
    "### Split validation/test set\n",
    "\n",
    "Assume that we don't have existing evaluation set \n",
    "and want to split some edges for model evaluation."
   ]
  },
  {
   "cell_type": "code",
   "execution_count": 8,
   "metadata": {},
   "outputs": [
    {
     "name": "stdout",
     "output_type": "stream",
     "text": [
      "sampling edges 9999/10000 (99.99%)\n",
      "num sampled edges: 10000\n",
      "{'graph_type': 'homo', 'num_nodes': 4039, 'num_edges': 78234}\n"
     ]
    }
   ],
   "source": [
    "set_random_seed(1999)\n",
    "\n",
    "num_sample = 10_000       # number of edges to split\n",
    "min_src_out_degree = 3    # guarantee the minimum out-degree of a source node\n",
    "min_dst_in_degree = 1     # guarantee the minimum in-degree of a destination node\n",
    "\n",
    "indptr, indices, pos_edges = XGCN.data.split.split_edges(\n",
    "    indptr, indices,\n",
    "    num_sample, min_src_out_degree, min_dst_in_degree\n",
    ")\n",
    "info['num_edges'] = len(indices)\n",
    "print(info)"
   ]
  },
  {
   "attachments": {},
   "cell_type": "markdown",
   "metadata": {},
   "source": [
    "Now we have all the positive edges: ``pos_edges``, let's divide them for \n",
    "validation set and test set, and we’ll use the \"whole-graph-multi-pos\" evaluation method:"
   ]
  },
  {
   "cell_type": "code",
   "execution_count": 9,
   "metadata": {},
   "outputs": [],
   "source": [
    "num_validation = 2000\n",
    "val_edges = pos_edges[:num_validation]\n",
    "test_edges = pos_edges[num_validation:]\n",
    "\n",
    "val_set = XGCN.data.split.from_edges_to_adj_eval_set(val_edges)\n",
    "test_set = XGCN.data.split.from_edges_to_adj_eval_set(test_edges)"
   ]
  },
  {
   "attachments": {},
   "cell_type": "markdown",
   "metadata": {},
   "source": [
    "### Save the Dataset Instance\n",
    "\n",
    "Now we have already generated a complete dataset instance, let's save it:"
   ]
  },
  {
   "cell_type": "code",
   "execution_count": 10,
   "metadata": {},
   "outputs": [],
   "source": [
    "data_root = osp.join(all_data_root, 'dataset/instance_' + dataset)\n",
    "ensure_dir(data_root)\n",
    "\n",
    "io.save_yaml(osp.join(data_root, 'info.yaml'), info)\n",
    "io.save_pickle(osp.join(data_root, 'indptr.pkl'), indptr)\n",
    "io.save_pickle(osp.join(data_root, 'indices.pkl'), indices)\n",
    "io.save_pickle(osp.join(data_root, 'pos_edges.pkl'), pos_edges)\n",
    "io.save_pickle(osp.join(data_root, 'val_set.pkl'), val_set)\n",
    "io.save_pickle(osp.join(data_root, 'test_set.pkl'), test_set)"
   ]
  },
  {
   "attachments": {},
   "cell_type": "markdown",
   "metadata": {},
   "source": [
    "Here we also save the ``pos_edges``, so you can use it to make evaluation sets for \n",
    "\"one-pos-k-neg\" or \"whole-graph-one-pos\" method by concatenating some randomly \n",
    "sampled negative nodes. \n",
    "\n",
    "If you have done the above steps successfully, your data directory will be like follows: \n",
    "\n",
    "```\n",
    "XGCN_data\n",
    "└── dataset\n",
    "    ├── raw_facebook\n",
    "    |   ├── facebook_combined.txt\n",
    "    |   └── csr\n",
    "    |       ├── indices.pkl\n",
    "    |       ├── indptr.pkl\n",
    "    |       └── info.yaml\n",
    "    └── instance_facebook\n",
    "        ├── indices.pkl\n",
    "        ├── indptr.pkl\n",
    "        ├── info.yaml\n",
    "        ├── pos_edges.pkl\n",
    "        ├── test_set.pkl\n",
    "        └── val_set.pkl\n",
    "```\n"
   ]
  },
  {
   "attachments": {},
   "cell_type": "markdown",
   "metadata": {},
   "source": [
    "## Run GraphSAGE"
   ]
  },
  {
   "cell_type": "code",
   "execution_count": 11,
   "metadata": {},
   "outputs": [
    {
     "data": {
      "text/plain": [
       "{'data_root': '',\n",
       " 'results_root': '',\n",
       " 'epochs': 200,\n",
       " 'val_freq': 1,\n",
       " 'key_score_metric': 'r100',\n",
       " 'convergence_threshold': 20,\n",
       " 'Dataset_type': 'BlockDataset',\n",
       " 'num_workers': 0,\n",
       " 'num_gcn_layers': 2,\n",
       " 'train_num_layer_sample': '[10, 20]',\n",
       " 'NodeListDataset_type': 'LinkDataset',\n",
       " 'pos_sampler': 'ObservedEdges_Sampler',\n",
       " 'neg_sampler': 'RandomNeg_Sampler',\n",
       " 'num_neg': 1,\n",
       " 'BatchSampleIndicesGenerator_type': 'SampleIndicesWithReplacement',\n",
       " 'train_batch_size': 1024,\n",
       " 'epoch_sample_ratio': 0.1,\n",
       " 'val_method': '',\n",
       " 'val_batch_size': 256,\n",
       " 'file_val_set': '',\n",
       " 'test_method': '',\n",
       " 'test_batch_size': 256,\n",
       " 'file_test_set': '',\n",
       " 'model': 'GraphSAGE',\n",
       " 'seed': 1999,\n",
       " 'graph_device': 'cuda:0',\n",
       " 'emb_table_device': 'cuda:0',\n",
       " 'gnn_device': 'cuda:0',\n",
       " 'out_emb_table_device': 'cuda:0',\n",
       " 'forward_mode': 'sample',\n",
       " 'infer_num_layer_sample': '[10, 20]',\n",
       " 'from_pretrained': 0,\n",
       " 'file_pretrained_emb': '',\n",
       " 'freeze_emb': 0,\n",
       " 'use_sparse': 0,\n",
       " 'emb_dim': 64,\n",
       " 'emb_init_std': 0.1,\n",
       " 'emb_lr': 0.005,\n",
       " 'gnn_arch': \"[{'in_feats': 64, 'out_feats': 64, 'aggregator_type': 'pool', 'activation': torch.tanh}, {'in_feats': 64, 'out_feats': 64, 'aggregator_type': 'pool'}]\",\n",
       " 'gnn_lr': 0.01,\n",
       " 'loss_type': 'bpr',\n",
       " 'L2_reg_weight': 0.0}"
      ]
     },
     "execution_count": 11,
     "metadata": {},
     "output_type": "execute_result"
    }
   ],
   "source": [
    "config_file = '/home/sxr/code/XGCN_and_data/XGCN_library/config/GraphSAGE-config.yaml'\n",
    "config = io.load_yaml(config_file)\n",
    "config"
   ]
  },
  {
   "cell_type": "code",
   "execution_count": 16,
   "metadata": {},
   "outputs": [],
   "source": [
    "config['data_root'] = data_root\n",
    "results_root = osp.join(all_data_root, 'model_output', dataset, 'GraphSAGE')\n",
    "ensure_dir(results_root)\n",
    "config['results_root'] = results_root\n",
    "\n",
    "config['val_method'] = 'MultiPosWholeGraph_Evaluator'\n",
    "config['file_val_set'] = osp.join(data_root, 'val_set.pkl')\n",
    "config['test_method'] = 'MultiPosWholeGraph_Evaluator'\n",
    "config['file_test_set'] = osp.join(data_root, 'test_set.pkl')\n",
    "\n",
    "config['Dataset_type'] = 'NodeListDataset'\n",
    "config['num_gcn_layers'] = 2\n",
    "config['train_num_layer_sample'] = \"[]\"\n",
    "\n",
    "config['forward_mode'] = 'full_graph'\n",
    "config['infer_num_layer_sample'] = \"[]\"\n",
    "\n",
    "config['epochs'] = 20  # for demonstration"
   ]
  },
  {
   "cell_type": "code",
   "execution_count": 17,
   "metadata": {},
   "outputs": [],
   "source": [
    "io.save_yaml(osp.join(results_root, 'config.yaml'), config)"
   ]
  },
  {
   "cell_type": "code",
   "execution_count": 18,
   "metadata": {},
   "outputs": [],
   "source": [
    "seed = config['seed'] if 'seed' in config else 1999\n",
    "set_random_seed(seed)"
   ]
  },
  {
   "cell_type": "code",
   "execution_count": 19,
   "metadata": {},
   "outputs": [],
   "source": [
    "data = {}  # containing some global data objects\n",
    "\n",
    "model = XGCN.build_Model(config, data)\n",
    "\n",
    "train_dl = XGCN.build_DataLoader(config, data)\n",
    "\n",
    "val_method = XGCN.build_val_Evaluator(config, data, model)\n",
    "test_method = XGCN.build_test_Evaluator(config, data, model)\n",
    "\n",
    "trainer = XGCN.build_Trainer(config, data, model, train_dl,\n",
    "                                val_method, test_method)"
   ]
  },
  {
   "cell_type": "code",
   "execution_count": 20,
   "metadata": {},
   "outputs": [
    {
     "name": "stderr",
     "output_type": "stream",
     "text": [
      "val:   0%|          | 0/8 [00:00<?, ?it/s]/home/sxr/env/XGCN/lib/python3.8/site-packages/numba/typed/typeddict.py:33: NumbaTypeSafetyWarning: \u001b[1m\u001b[1m\u001b[1munsafe cast from float64 to float32. Precision may be lost.\u001b[0m\u001b[0m\u001b[0m\n",
      "  d[key] = value\n",
      "val: 100%|██████████| 8/8 [00:03<00:00,  2.44it/s]\n"
     ]
    },
    {
     "name": "stdout",
     "output_type": "stream",
     "text": [
      "val: {'r20': 0.013000000000000001, 'r50': 0.0315, 'r100': 0.059000000000000004, 'r300': 0.1585, 'n20': 0.0035900108441710476, 'n50': 0.007235271885991097, 'n100': 0.011683212518692018, 'n300': 0.024925463270395992}\n",
      ">> new best score - r100 : 0.059000000000000004\n",
      "epoch 1\n"
     ]
    },
    {
     "name": "stderr",
     "output_type": "stream",
     "text": [
      "train: 100%|██████████| 7/7 [00:00<00:00, 84.14it/s]\n",
      "val: 100%|██████████| 8/8 [00:00<00:00, 12.55it/s]\n"
     ]
    },
    {
     "name": "stdout",
     "output_type": "stream",
     "text": [
      "val: {'r20': 0.16349999999999998, 'r50': 0.3325, 'r100': 0.5145, 'r300': 0.8135000000000001, 'n20': 0.057526278354227536, 'n50': 0.09067361905425787, 'n100': 0.1201671567633748, 'n300': 0.16068945047631858}\n",
      ">> new best score - r100 : 0.5145\n",
      "epoch 2\n"
     ]
    },
    {
     "name": "stderr",
     "output_type": "stream",
     "text": [
      "train: 100%|██████████| 7/7 [00:00<00:00, 81.30it/s]\n",
      "val: 100%|██████████| 8/8 [00:00<00:00, 12.29it/s]\n"
     ]
    },
    {
     "name": "stdout",
     "output_type": "stream",
     "text": [
      "val: {'r20': 0.211, 'r50': 0.4335, 'r100': 0.634, 'r300': 0.8775, 'n20': 0.07587603640556335, 'n50': 0.11962771809101105, 'n100': 0.15214757758378983, 'n300': 0.18534035896882417}\n",
      ">> new best score - r100 : 0.634\n",
      "epoch 3\n"
     ]
    },
    {
     "name": "stderr",
     "output_type": "stream",
     "text": [
      "train: 100%|██████████| 7/7 [00:00<00:00, 126.24it/s]\n",
      "val: 100%|██████████| 8/8 [00:00<00:00, 11.00it/s]\n"
     ]
    },
    {
     "name": "stdout",
     "output_type": "stream",
     "text": [
      "val: {'r20': 0.232, 'r50': 0.477, 'r100': 0.6775, 'r300': 0.916, 'n20': 0.08253836344927551, 'n50': 0.1308656261265278, 'n100': 0.1633737542703748, 'n300': 0.19593326587602497}\n",
      ">> new best score - r100 : 0.6775\n",
      "epoch 4\n"
     ]
    },
    {
     "name": "stderr",
     "output_type": "stream",
     "text": [
      "train: 100%|██████████| 7/7 [00:00<00:00, 57.54it/s]\n",
      "val: 100%|██████████| 8/8 [00:00<00:00, 13.27it/s]\n"
     ]
    },
    {
     "name": "stdout",
     "output_type": "stream",
     "text": [
      "val: {'r20': 0.2215, 'r50': 0.436, 'r100': 0.6415, 'r300': 0.9065000000000001, 'n20': 0.08090560722351074, 'n50': 0.1232845614105463, 'n100': 0.156492164760828, 'n300': 0.1926167269051075}\n",
      ">> distance_between_best_epoch: 1 threshold: 20\n",
      "epoch 5\n"
     ]
    },
    {
     "name": "stderr",
     "output_type": "stream",
     "text": [
      "train: 100%|██████████| 7/7 [00:00<00:00, 142.35it/s]\n",
      "val: 100%|██████████| 8/8 [00:00<00:00, 11.98it/s]\n"
     ]
    },
    {
     "name": "stdout",
     "output_type": "stream",
     "text": [
      "val: {'r20': 0.243, 'r50': 0.4495, 'r100': 0.6485, 'r300': 0.912, 'n20': 0.08498106802254915, 'n50': 0.12590246862918136, 'n100': 0.15823239166289568, 'n300': 0.19429039805009962}\n",
      ">> distance_between_best_epoch: 2 threshold: 20\n",
      "epoch 6\n"
     ]
    },
    {
     "name": "stderr",
     "output_type": "stream",
     "text": [
      "train: 100%|██████████| 7/7 [00:00<00:00, 59.64it/s]\n",
      "val: 100%|██████████| 8/8 [00:00<00:00, 12.08it/s]\n"
     ]
    },
    {
     "name": "stdout",
     "output_type": "stream",
     "text": [
      "val: {'r20': 0.256, 'r50': 0.46499999999999997, 'r100': 0.668, 'r300': 0.904, 'n20': 0.09241263209283351, 'n50': 0.13377996470779183, 'n100': 0.1666352772563696, 'n300': 0.19891404315456748}\n",
      ">> distance_between_best_epoch: 3 threshold: 20\n",
      "epoch 7\n"
     ]
    },
    {
     "name": "stderr",
     "output_type": "stream",
     "text": [
      "train: 100%|██████████| 7/7 [00:00<00:00, 123.35it/s]\n",
      "val: 100%|██████████| 8/8 [00:00<00:00, 11.87it/s]\n"
     ]
    },
    {
     "name": "stdout",
     "output_type": "stream",
     "text": [
      "val: {'r20': 0.2555, 'r50': 0.48450000000000004, 'r100': 0.6930000000000001, 'r300': 0.9315, 'n20': 0.09128188960254192, 'n50': 0.13651855089515447, 'n100': 0.1703202478811145, 'n300': 0.2028881103955209}\n",
      ">> new best score - r100 : 0.6930000000000001\n",
      "epoch 8\n"
     ]
    },
    {
     "name": "stderr",
     "output_type": "stream",
     "text": [
      "train: 100%|██████████| 7/7 [00:00<00:00, 118.75it/s]\n",
      "val: 100%|██████████| 8/8 [00:00<00:00, 10.23it/s]\n"
     ]
    },
    {
     "name": "stdout",
     "output_type": "stream",
     "text": [
      "val: {'r20': 0.252, 'r50': 0.497, 'r100': 0.698, 'r300': 0.93, 'n20': 0.08928789292275906, 'n50': 0.13788158389925959, 'n100': 0.17039455630630254, 'n300': 0.20219868839904667}\n",
      ">> new best score - r100 : 0.698\n",
      "epoch 9\n"
     ]
    },
    {
     "name": "stderr",
     "output_type": "stream",
     "text": [
      "train: 100%|██████████| 7/7 [00:00<00:00, 139.16it/s]\n",
      "val: 100%|██████████| 8/8 [00:00<00:00, 11.96it/s]\n"
     ]
    },
    {
     "name": "stdout",
     "output_type": "stream",
     "text": [
      "val: {'r20': 0.275, 'r50': 0.4945, 'r100': 0.706, 'r300': 0.925, 'n20': 0.10096251881867647, 'n50': 0.1442385149821639, 'n100': 0.1787556702271104, 'n300': 0.20875201932340862}\n",
      ">> new best score - r100 : 0.706\n",
      "epoch 10\n"
     ]
    },
    {
     "name": "stderr",
     "output_type": "stream",
     "text": [
      "train: 100%|██████████| 7/7 [00:00<00:00, 141.92it/s]\n",
      "val: 100%|██████████| 8/8 [00:00<00:00, 11.91it/s]\n"
     ]
    },
    {
     "name": "stdout",
     "output_type": "stream",
     "text": [
      "val: {'r20': 0.2735, 'r50': 0.4915, 'r100': 0.698, 'r300': 0.93, 'n20': 0.10016111679375171, 'n50': 0.1432922118604183, 'n100': 0.17669726830720903, 'n300': 0.20847842105105518}\n",
      ">> distance_between_best_epoch: 1 threshold: 20\n",
      "epoch 11\n"
     ]
    },
    {
     "name": "stderr",
     "output_type": "stream",
     "text": [
      "train: 100%|██████████| 7/7 [00:00<00:00, 132.05it/s]\n",
      "val: 100%|██████████| 8/8 [00:00<00:00, 11.93it/s]\n"
     ]
    },
    {
     "name": "stdout",
     "output_type": "stream",
     "text": [
      "val: {'r20': 0.277, 'r50': 0.487, 'r100': 0.695, 'r300': 0.929, 'n20': 0.10383798963576556, 'n50': 0.1452993296533823, 'n100': 0.17909001976251604, 'n300': 0.21108173427730798}\n",
      ">> distance_between_best_epoch: 2 threshold: 20\n",
      "epoch 12\n"
     ]
    },
    {
     "name": "stderr",
     "output_type": "stream",
     "text": [
      "train: 100%|██████████| 7/7 [00:00<00:00, 148.14it/s]\n",
      "val: 100%|██████████| 8/8 [00:00<00:00, 12.22it/s]\n"
     ]
    },
    {
     "name": "stdout",
     "output_type": "stream",
     "text": [
      "val: {'r20': 0.29950000000000004, 'r50': 0.526, 'r100': 0.734, 'r300': 0.9299999999999999, 'n20': 0.10883612235635519, 'n50': 0.15344094064831731, 'n100': 0.18705170691013334, 'n300': 0.21396440940350295}\n",
      ">> new best score - r100 : 0.734\n",
      "epoch 13\n"
     ]
    },
    {
     "name": "stderr",
     "output_type": "stream",
     "text": [
      "train: 100%|██████████| 7/7 [00:00<00:00, 126.78it/s]\n",
      "val: 100%|██████████| 8/8 [00:00<00:00, 12.03it/s]\n"
     ]
    },
    {
     "name": "stdout",
     "output_type": "stream",
     "text": [
      "val: {'r20': 0.274, 'r50': 0.4875, 'r100': 0.6885, 'r300': 0.9249999999999999, 'n20': 0.09739882365614175, 'n50': 0.13953693313896656, 'n100': 0.17207467442005872, 'n300': 0.20449494194611909}\n",
      ">> distance_between_best_epoch: 1 threshold: 20\n",
      "epoch 14\n"
     ]
    },
    {
     "name": "stderr",
     "output_type": "stream",
     "text": [
      "train: 100%|██████████| 7/7 [00:00<00:00, 33.34it/s]\n",
      "val: 100%|██████████| 8/8 [00:00<00:00, 11.63it/s]\n"
     ]
    },
    {
     "name": "stdout",
     "output_type": "stream",
     "text": [
      "val: {'r20': 0.252, 'r50': 0.495, 'r100': 0.6890000000000001, 'r300': 0.9245000000000001, 'n20': 0.09332643342763186, 'n50': 0.14137147800624372, 'n100': 0.1729602329060435, 'n300': 0.205282624270767}\n",
      ">> distance_between_best_epoch: 2 threshold: 20\n",
      "epoch 15\n"
     ]
    },
    {
     "name": "stderr",
     "output_type": "stream",
     "text": [
      "train: 100%|██████████| 7/7 [00:00<00:00, 130.93it/s]\n",
      "val: 100%|██████████| 8/8 [00:00<00:00, 12.26it/s]\n"
     ]
    },
    {
     "name": "stdout",
     "output_type": "stream",
     "text": [
      "val: {'r20': 0.258, 'r50': 0.4865, 'r100': 0.6864999999999999, 'r300': 0.9245, 'n20': 0.09679963165521621, 'n50': 0.14209914100915194, 'n100': 0.17449942503124477, 'n300': 0.20712741608172658}\n",
      ">> distance_between_best_epoch: 3 threshold: 20\n",
      "epoch 16\n"
     ]
    },
    {
     "name": "stderr",
     "output_type": "stream",
     "text": [
      "train: 100%|██████████| 7/7 [00:00<00:00, 30.85it/s]\n",
      "val: 100%|██████████| 8/8 [00:00<00:00, 12.04it/s]\n"
     ]
    },
    {
     "name": "stdout",
     "output_type": "stream",
     "text": [
      "val: {'r20': 0.249, 'r50': 0.46799999999999997, 'r100': 0.6775, 'r300': 0.9295, 'n20': 0.0911653943657875, 'n50': 0.13437426361441612, 'n100': 0.16825335029512645, 'n300': 0.20266326193511486}\n",
      ">> distance_between_best_epoch: 4 threshold: 20\n",
      "epoch 17\n"
     ]
    },
    {
     "name": "stderr",
     "output_type": "stream",
     "text": [
      "train: 100%|██████████| 7/7 [00:00<00:00, 139.31it/s]\n",
      "val: 100%|██████████| 8/8 [00:00<00:00, 12.13it/s]\n"
     ]
    },
    {
     "name": "stdout",
     "output_type": "stream",
     "text": [
      "val: {'r20': 0.2535, 'r50': 0.482, 'r100': 0.712, 'r300': 0.948, 'n20': 0.09300272885710001, 'n50': 0.13803596653789282, 'n100': 0.17543301368504763, 'n300': 0.20784425151348113}\n",
      ">> distance_between_best_epoch: 5 threshold: 20\n",
      "epoch 18\n"
     ]
    },
    {
     "name": "stderr",
     "output_type": "stream",
     "text": [
      "train: 100%|██████████| 7/7 [00:00<00:00, 60.89it/s]\n",
      "val: 100%|██████████| 8/8 [00:00<00:00, 12.12it/s]\n"
     ]
    },
    {
     "name": "stdout",
     "output_type": "stream",
     "text": [
      "val: {'r20': 0.2955, 'r50': 0.5095000000000001, 'r100': 0.7235, 'r300': 0.9404999999999999, 'n20': 0.10859645496308803, 'n50': 0.15065764221549033, 'n100': 0.1854883262515068, 'n300': 0.21523110443353652}\n",
      ">> distance_between_best_epoch: 6 threshold: 20\n",
      "epoch 19\n"
     ]
    },
    {
     "name": "stderr",
     "output_type": "stream",
     "text": [
      "train: 100%|██████████| 7/7 [00:00<00:00, 129.00it/s]\n",
      "val: 100%|██████████| 8/8 [00:00<00:00, 13.05it/s]\n"
     ]
    },
    {
     "name": "stdout",
     "output_type": "stream",
     "text": [
      "val: {'r20': 0.2735, 'r50': 0.505, 'r100': 0.7084999999999999, 'r300': 0.9349999999999999, 'n20': 0.09955779647827148, 'n50': 0.14570224852114916, 'n100': 0.17868383438885213, 'n300': 0.20972430708259343}\n",
      ">> distance_between_best_epoch: 7 threshold: 20\n",
      "epoch 20\n"
     ]
    },
    {
     "name": "stderr",
     "output_type": "stream",
     "text": [
      "train: 100%|██████████| 7/7 [00:00<00:00, 86.56it/s]\n",
      "test: 100%|██████████| 11/11 [00:01<00:00, 10.91it/s]"
     ]
    },
    {
     "name": "stdout",
     "output_type": "stream",
     "text": [
      "test: {'r20': 0.28091589798480376, 'r50': 0.5174031882777184, 'r100': 0.7274887186773148, 'r300': 0.9430090295189377, 'n20': 0.14019608510895787, 'n50': 0.2046973804199135, 'n100': 0.25180337509420503, 'n300': 0.2920429244948151, 'formatted': 'r20:0.2809 || r50:0.5174 || r100:0.7275 || r300:0.9430 || n20:0.1402 || n50:0.2047 || n100:0.2518 || n300:0.2920 || '}\n"
     ]
    },
    {
     "name": "stderr",
     "output_type": "stream",
     "text": [
      "\n"
     ]
    }
   ],
   "source": [
    "trainer.train_and_test()"
   ]
  },
  {
   "cell_type": "code",
   "execution_count": null,
   "metadata": {},
   "outputs": [],
   "source": []
  }
 ],
 "metadata": {
  "kernelspec": {
   "display_name": "XGCN",
   "language": "python",
   "name": "xgcn"
  },
  "language_info": {
   "codemirror_mode": {
    "name": "ipython",
    "version": 3
   },
   "file_extension": ".py",
   "mimetype": "text/x-python",
   "name": "python",
   "nbconvert_exporter": "python",
   "pygments_lexer": "ipython3",
   "version": "3.8.16"
  },
  "orig_nbformat": 4
 },
 "nbformat": 4,
 "nbformat_minor": 2
}
