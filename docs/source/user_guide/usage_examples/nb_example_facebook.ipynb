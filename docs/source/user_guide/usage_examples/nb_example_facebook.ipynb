{
 "cells": [
  {
   "attachments": {},
   "cell_type": "markdown",
   "metadata": {},
   "source": [
    "# Example: facebook\n",
    "\n",
    "## Prepare the Dataset Instance\n",
    "\n",
    "Let's begin with a small social network dataset: facebook.\n",
    "The data is included in the XGCN repository: ``data/raw_facebook``. \n",
    "You can also download it from SNAP: http://snap.stanford.edu/data/facebook_combined.txt.gz .\n",
    "\n",
    "We recommend to arrange the data with a clear directory structure. \n",
    "To get started, you may manually setup an ``XGCN_data`` (or other names you like) directory as follows: \n",
    "(It's recommended to put your ``XGCN_data`` somewhere else than in this repository.)\n",
    "\n",
    "```\n",
    "XGCN_data\n",
    "└── dataset\n",
    "    └── raw_facebook\n",
    "        └── facebook_combined.txt\n",
    "```\n",
    "\n",
    "From now on, we'll use this directory to hold all the different datasets \n",
    "and models outputs. \n",
    "We refer to its path as ``all_data_root`` in our python code and shell scripts. \n"
   ]
  },
  {
   "cell_type": "code",
   "execution_count": 1,
   "metadata": {},
   "outputs": [],
   "source": [
    "import XGCN\n",
    "from XGCN.data import io, csr\n",
    "from XGCN.utils.utils import ensure_dir, set_random_seed\n",
    "\n",
    "import os.path as osp"
   ]
  },
  {
   "cell_type": "code",
   "execution_count": 2,
   "metadata": {},
   "outputs": [],
   "source": [
    "# set your own all_data_root:\n",
    "all_data_root = '/home/wuyao/songxiran/code/XGCN_coda_and_data/XGCN_data'"
   ]
  },
  {
   "attachments": {},
   "cell_type": "markdown",
   "metadata": {},
   "source": [
    "### Load & save the raw graph"
   ]
  },
  {
   "cell_type": "code",
   "execution_count": 3,
   "metadata": {},
   "outputs": [
    {
     "name": "stdout",
     "output_type": "stream",
     "text": [
      "[   0    0    0 ... 4027 4027 4031]\n",
      "[   1    2    3 ... 4032 4038 4038]\n"
     ]
    }
   ],
   "source": [
    "dataset = 'facebook'\n",
    "raw_data_root = osp.join(all_data_root, 'dataset/raw_' + dataset)\n",
    "file_raw_graph = osp.join(raw_data_root, 'facebook_combined.txt')\n",
    "E_src, E_dst = io.load_txt_edges(file_raw_graph)\n",
    "print(E_src)\n",
    "print(E_dst)"
   ]
  },
  {
   "cell_type": "code",
   "execution_count": 4,
   "metadata": {},
   "outputs": [
    {
     "name": "stdout",
     "output_type": "stream",
     "text": [
      "# from_edges_to_csr ...\n",
      "# remove_repeated_edges ...\n",
      "## 0 edges are removed\n",
      "{'graph_type': 'homo', 'num_nodes': 4039, 'num_edges': 88234}\n"
     ]
    }
   ],
   "source": [
    "info, indptr, indices = csr.from_edges_to_csr_with_info(\n",
    "    E_src, E_dst, graph_type='homo'\n",
    ")\n",
    "print(info)"
   ]
  },
  {
   "attachments": {},
   "cell_type": "markdown",
   "metadata": {},
   "source": [
    "Loading large graphs from text files can be time-consuming (though the facebook graph here is a small one), we can cache the graph using ``io.save_pickle``: "
   ]
  },
  {
   "cell_type": "code",
   "execution_count": 5,
   "metadata": {},
   "outputs": [],
   "source": [
    "raw_csr_root = osp.join(raw_data_root, 'csr')\n",
    "ensure_dir(raw_csr_root)  # mkdir if not exists\n",
    "\n",
    "io.save_yaml(osp.join(raw_csr_root, 'info.yaml'), info)\n",
    "io.save_pickle(osp.join(raw_csr_root, 'indptr.pkl'), indptr)\n",
    "io.save_pickle(osp.join(raw_csr_root, 'indices.pkl'), indices)"
   ]
  },
  {
   "attachments": {},
   "cell_type": "markdown",
   "metadata": {},
   "source": [
    "### Split validation/test set\n",
    "\n",
    "Assume that we don't have existing evaluation set \n",
    "and want to split some edges for model evaluation."
   ]
  },
  {
   "cell_type": "code",
   "execution_count": 6,
   "metadata": {},
   "outputs": [
    {
     "name": "stdout",
     "output_type": "stream",
     "text": [
      "sampling edges 9999/10000 (99.99%)\n",
      "num sampled edges: 10000\n",
      "{'graph_type': 'homo', 'num_nodes': 4039, 'num_edges': 78234}\n"
     ]
    }
   ],
   "source": [
    "set_random_seed(1999)\n",
    "\n",
    "num_sample = 10_000       # number of edges to split\n",
    "min_src_out_degree = 3    # guarantee the minimum out-degree of a source node\n",
    "min_dst_in_degree = 1     # guarantee the minimum in-degree of a destination node\n",
    "\n",
    "indptr, indices, pos_edges = XGCN.data.split.split_edges(\n",
    "    indptr, indices,\n",
    "    num_sample, min_src_out_degree, min_dst_in_degree\n",
    ")\n",
    "info['num_edges'] = len(indices)\n",
    "print(info)"
   ]
  },
  {
   "attachments": {},
   "cell_type": "markdown",
   "metadata": {},
   "source": [
    "Now we have all the positive edges: ``pos_edges``, let's divide them for \n",
    "validation set and test set, and we’ll use the \"whole-graph-multi-pos\" evaluation method:"
   ]
  },
  {
   "cell_type": "code",
   "execution_count": 7,
   "metadata": {},
   "outputs": [],
   "source": [
    "num_validation = 2000\n",
    "val_edges = pos_edges[:num_validation]\n",
    "test_edges = pos_edges[num_validation:]\n",
    "\n",
    "val_set = XGCN.data.split.from_edges_to_adj_eval_set(val_edges)\n",
    "test_set = XGCN.data.split.from_edges_to_adj_eval_set(test_edges)"
   ]
  },
  {
   "attachments": {},
   "cell_type": "markdown",
   "metadata": {},
   "source": [
    "### Save the Dataset Instance\n",
    "\n",
    "Now we have already generated a complete dataset instance, let's save it:"
   ]
  },
  {
   "cell_type": "code",
   "execution_count": 8,
   "metadata": {},
   "outputs": [],
   "source": [
    "data_root = osp.join(all_data_root, 'dataset/instance_' + dataset)\n",
    "ensure_dir(data_root)\n",
    "\n",
    "io.save_yaml(osp.join(data_root, 'info.yaml'), info)\n",
    "io.save_pickle(osp.join(data_root, 'indptr.pkl'), indptr)\n",
    "io.save_pickle(osp.join(data_root, 'indices.pkl'), indices)\n",
    "io.save_pickle(osp.join(data_root, 'pos_edges.pkl'), pos_edges)\n",
    "io.save_pickle(osp.join(data_root, 'val_set.pkl'), val_set)\n",
    "io.save_pickle(osp.join(data_root, 'test_set.pkl'), test_set)"
   ]
  },
  {
   "attachments": {},
   "cell_type": "markdown",
   "metadata": {},
   "source": [
    "Here we also save the ``pos_edges``, so you can use it to make evaluation sets for \n",
    "\"one-pos-k-neg\" or \"whole-graph-one-pos\" method by concatenating some randomly \n",
    "sampled negative nodes. \n",
    "\n",
    "If you have done the above steps successfully, your data directory will be like follows: \n",
    "\n",
    "```\n",
    "XGCN_data\n",
    "└── dataset\n",
    "    ├── raw_facebook\n",
    "    |   ├── facebook_combined.txt\n",
    "    |   └── csr\n",
    "    |       ├── indices.pkl\n",
    "    |       ├── indptr.pkl\n",
    "    |       └── info.yaml\n",
    "    └── instance_facebook\n",
    "        ├── indices.pkl\n",
    "        ├── indptr.pkl\n",
    "        ├── info.yaml\n",
    "        ├── pos_edges.pkl\n",
    "        ├── test_set.pkl\n",
    "        └── val_set.pkl\n",
    "```\n"
   ]
  },
  {
   "attachments": {},
   "cell_type": "markdown",
   "metadata": {},
   "source": [
    "## Run GraphSAGE"
   ]
  },
  {
   "cell_type": "code",
   "execution_count": 9,
   "metadata": {},
   "outputs": [
    {
     "data": {
      "text/plain": [
       "{'data_root': '',\n",
       " 'results_root': '',\n",
       " 'epochs': 200,\n",
       " 'val_freq': 1,\n",
       " 'key_score_metric': 'r100',\n",
       " 'convergence_threshold': 20,\n",
       " 'Dataset_type': 'BlockDataset',\n",
       " 'num_workers': 0,\n",
       " 'num_gcn_layers': 2,\n",
       " 'train_num_layer_sample': '[10, 20]',\n",
       " 'NodeListDataset_type': 'LinkDataset',\n",
       " 'pos_sampler': 'ObservedEdges_Sampler',\n",
       " 'neg_sampler': 'RandomNeg_Sampler',\n",
       " 'num_neg': 1,\n",
       " 'BatchSampleIndicesGenerator_type': 'SampleIndicesWithReplacement',\n",
       " 'train_batch_size': 1024,\n",
       " 'epoch_sample_ratio': 0.1,\n",
       " 'val_evaluator': '',\n",
       " 'val_batch_size': 256,\n",
       " 'file_val_set': '',\n",
       " 'test_evaluator': '',\n",
       " 'test_batch_size': 256,\n",
       " 'file_test_set': '',\n",
       " 'model': 'GraphSAGE',\n",
       " 'seed': 1999,\n",
       " 'graph_device': 'cuda:0',\n",
       " 'emb_table_device': 'cuda:0',\n",
       " 'gnn_device': 'cuda:0',\n",
       " 'out_emb_table_device': 'cuda:0',\n",
       " 'forward_mode': 'sample',\n",
       " 'infer_num_layer_sample': '[10, 20]',\n",
       " 'from_pretrained': 0,\n",
       " 'file_pretrained_emb': '',\n",
       " 'freeze_emb': 0,\n",
       " 'use_sparse': 0,\n",
       " 'emb_dim': 64,\n",
       " 'emb_init_std': 0.1,\n",
       " 'emb_lr': 0.005,\n",
       " 'gnn_arch': \"[{'in_feats': 64, 'out_feats': 64, 'aggregator_type': 'pool', 'activation': torch.tanh}, {'in_feats': 64, 'out_feats': 64, 'aggregator_type': 'pool'}]\",\n",
       " 'gnn_lr': 0.01,\n",
       " 'loss_type': 'bpr',\n",
       " 'L2_reg_weight': 0.0}"
      ]
     },
     "execution_count": 9,
     "metadata": {},
     "output_type": "execute_result"
    }
   ],
   "source": [
    "config_file = '/home/wuyao/songxiran/code/XGCN_coda_and_data/XGCN_library/config/GraphSAGE-config.yaml'\n",
    "config = io.load_yaml(config_file)\n",
    "config"
   ]
  },
  {
   "cell_type": "code",
   "execution_count": 10,
   "metadata": {},
   "outputs": [],
   "source": [
    "config['data_root'] = data_root\n",
    "results_root = osp.join(all_data_root, 'model_output', dataset, 'GraphSAGE')\n",
    "ensure_dir(results_root)\n",
    "config['results_root'] = results_root\n",
    "\n",
    "config['val_evaluator'] = 'WholeGraph_MultiPos_Evaluator'\n",
    "config['file_val_set'] = osp.join(data_root, 'val_set.pkl')\n",
    "config['test_evaluator'] = 'WholeGraph_MultiPos_Evaluator'\n",
    "config['file_test_set'] = osp.join(data_root, 'test_set.pkl')\n",
    "\n",
    "config['Dataset_type'] = 'NodeListDataset'\n",
    "config['num_gcn_layers'] = 2\n",
    "config['train_num_layer_sample'] = \"[]\"\n",
    "\n",
    "config['forward_mode'] = 'full_graph'\n",
    "config['infer_num_layer_sample'] = \"[]\"\n",
    "\n",
    "config['epochs'] = 5  # for demonstration"
   ]
  },
  {
   "cell_type": "code",
   "execution_count": 11,
   "metadata": {},
   "outputs": [],
   "source": [
    "io.save_yaml(osp.join(results_root, 'config.yaml'), config)"
   ]
  },
  {
   "cell_type": "code",
   "execution_count": 12,
   "metadata": {},
   "outputs": [],
   "source": [
    "seed = config['seed'] if 'seed' in config else 1999\n",
    "set_random_seed(seed)"
   ]
  },
  {
   "cell_type": "code",
   "execution_count": 13,
   "metadata": {},
   "outputs": [],
   "source": [
    "data = {}  # containing some global data objects\n",
    "\n",
    "model = XGCN.build_Model(config, data)\n",
    "\n",
    "train_dl = XGCN.build_DataLoader(config, data)\n",
    "\n",
    "val_evaluator = XGCN.build_val_Evaluator(config, data, model)\n",
    "test_evaluator = XGCN.build_test_Evaluator(config, data, model)\n",
    "\n",
    "trainer = XGCN.build_Trainer(config, data, model, train_dl,\n",
    "                                val_evaluator, test_evaluator)"
   ]
  },
  {
   "cell_type": "code",
   "execution_count": 14,
   "metadata": {},
   "outputs": [
    {
     "name": "stderr",
     "output_type": "stream",
     "text": [
      "val:   0%|          | 0/8 [00:00<?, ?it/s]/home/wuyao/songxiran/env/XGCN/lib/python3.9/site-packages/numba/typed/typeddict.py:33: NumbaTypeSafetyWarning: \u001b[1m\u001b[1m\u001b[1munsafe cast from float64 to float32. Precision may be lost.\u001b[0m\u001b[0m\u001b[0m\n",
      "  d[key] = value\n",
      "val: 100%|██████████| 8/8 [00:05<00:00,  1.37it/s]\n"
     ]
    },
    {
     "name": "stdout",
     "output_type": "stream",
     "text": [
      "val: {'r20': 0.008, 'r50': 0.029000000000000005, 'r100': 0.063, 'r300': 0.172, 'n20': 0.0022217263951897622, 'n50': 0.006249060936272145, 'n100': 0.011755600214004517, 'n300': 0.026065643906593324}\n",
      ">> new best score - r100 : 0.063\n",
      "train epoch 1\n"
     ]
    },
    {
     "name": "stderr",
     "output_type": "stream",
     "text": [
      "100%|██████████| 7/7 [00:00<00:00, 23.91it/s]\n",
      "val: 100%|██████████| 8/8 [00:01<00:00,  5.42it/s]\n"
     ]
    },
    {
     "name": "stdout",
     "output_type": "stream",
     "text": [
      "val: {'r20': 0.182, 'r50': 0.3625, 'r100': 0.5435000000000001, 'r300': 0.8225, 'n20': 0.061383630290627475, 'n50': 0.09682544178515673, 'n100': 0.12624080485105516, 'n300': 0.16416783578693867}\n",
      ">> new best score - r100 : 0.5435000000000001\n",
      "train epoch 2\n"
     ]
    },
    {
     "name": "stderr",
     "output_type": "stream",
     "text": [
      "100%|██████████| 7/7 [00:00<00:00, 35.16it/s]\n",
      "val: 100%|██████████| 8/8 [00:01<00:00,  6.08it/s]\n"
     ]
    },
    {
     "name": "stdout",
     "output_type": "stream",
     "text": [
      "val: {'r20': 0.201, 'r50': 0.3955, 'r100': 0.6055, 'r300': 0.8665, 'n20': 0.07034942269325256, 'n50': 0.10879766258597375, 'n100': 0.14273371067643165, 'n300': 0.17818819119036197}\n",
      ">> new best score - r100 : 0.6055\n",
      "train epoch 3\n"
     ]
    },
    {
     "name": "stderr",
     "output_type": "stream",
     "text": [
      "100%|██████████| 7/7 [00:00<00:00, 26.37it/s]\n",
      "val: 100%|██████████| 8/8 [00:01<00:00,  5.48it/s]\n"
     ]
    },
    {
     "name": "stdout",
     "output_type": "stream",
     "text": [
      "val: {'r20': 0.23049999999999998, 'r50': 0.43400000000000005, 'r100': 0.6325000000000001, 'r300': 0.895, 'n20': 0.08142697764933109, 'n50': 0.12165832801163198, 'n100': 0.1537973643690348, 'n300': 0.1896073479913175}\n",
      ">> new best score - r100 : 0.6325000000000001\n",
      "train epoch 4\n"
     ]
    },
    {
     "name": "stderr",
     "output_type": "stream",
     "text": [
      "100%|██████████| 7/7 [00:00<00:00, 27.83it/s]\n",
      "val: 100%|██████████| 8/8 [00:01<00:00,  5.42it/s]\n"
     ]
    },
    {
     "name": "stdout",
     "output_type": "stream",
     "text": [
      "val: {'r20': 0.2625, 'r50': 0.47, 'r100': 0.6759999999999999, 'r300': 0.9075, 'n20': 0.09483492197841406, 'n50': 0.13604466869682075, 'n100': 0.16931749348342418, 'n300': 0.20104179226234553}\n",
      ">> new best score - r100 : 0.6759999999999999\n",
      "train epoch 5\n"
     ]
    },
    {
     "name": "stderr",
     "output_type": "stream",
     "text": [
      "100%|██████████| 7/7 [00:00<00:00, 33.79it/s]\n",
      "test: 100%|██████████| 11/11 [00:01<00:00,  5.70it/s]"
     ]
    },
    {
     "name": "stdout",
     "output_type": "stream",
     "text": [
      "test: {'r20': 0.2606913787674581, 'r50': 0.48381444972196996, 'r100': 0.678367787569825, 'r300': 0.921091709989611, 'n20': 0.12727378382057442, 'n50': 0.18800182983608477, 'n100': 0.23156760687158523, 'n300': 0.276839482918626, 'formatted': 'r20:0.2607 || r50:0.4838 || r100:0.6784 || r300:0.9211 || n20:0.1273 || n50:0.1880 || n100:0.2316 || n300:0.2768 || '}\n"
     ]
    },
    {
     "name": "stderr",
     "output_type": "stream",
     "text": [
      "\n"
     ]
    }
   ],
   "source": [
    "trainer.train_and_test()"
   ]
  },
  {
   "cell_type": "code",
   "execution_count": null,
   "metadata": {},
   "outputs": [],
   "source": []
  }
 ],
 "metadata": {
  "kernelspec": {
   "display_name": "songxrian-XGCN",
   "language": "python",
   "name": "xgcn"
  },
  "language_info": {
   "codemirror_mode": {
    "name": "ipython",
    "version": 3
   },
   "file_extension": ".py",
   "mimetype": "text/x-python",
   "name": "python",
   "nbconvert_exporter": "python",
   "pygments_lexer": "ipython3",
   "version": "3.9.12"
  },
  "orig_nbformat": 4,
  "vscode": {
   "interpreter": {
    "hash": "47f4917743abf445e63ac4df24689761018614ad0ead7b330110d2c19a5a7277"
   }
  }
 },
 "nbformat": 4,
 "nbformat_minor": 2
}
