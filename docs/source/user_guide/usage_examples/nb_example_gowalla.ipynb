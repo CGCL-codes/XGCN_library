{
 "cells": [
  {
   "cell_type": "code",
   "execution_count": 3,
   "metadata": {},
   "outputs": [],
   "source": [
    "import XGCN\n",
    "from XGCN.data import io, csr\n",
    "from XGCN.utils.utils import ensure_dir, set_random_seed\n",
    "import os.path as osp"
   ]
  },
  {
   "attachments": {},
   "cell_type": "markdown",
   "metadata": {},
   "source": [
    "## Prepare the raw data\n",
    "\n",
    "Here we present a user-item graph example. The used gowalla dataset can be found \n",
    "in our XGCN repository: ``data/raw_gowalla/``, which is copied from LightGCN's official code repository: \n",
    "https://github.com/gusye1234/LightGCN-PyTorch.\n",
    "\n",
    "We recommend to arrange the data with a clear directory structure. \n",
    "To get started, you may manually setup a ``XGCN_data`` directory as follows: \n",
    "(It's recommended to put your ``XGCN_data`` somewhere else than in this repository.)\n",
    "\n",
    "```\n",
    "XGCN_data\n",
    "└── dataset\n",
    "    └── raw_gowalla\n",
    "        ├── train.txt\n",
    "        └── test.txt\n",
    "```"
   ]
  },
  {
   "cell_type": "code",
   "execution_count": 2,
   "metadata": {},
   "outputs": [],
   "source": [
    "# set your own all_data_root:\n",
    "all_data_root = '/home/wuyao/songxiran/code/XGCN_coda_and_data/XGCN_data'"
   ]
  },
  {
   "attachments": {},
   "cell_type": "markdown",
   "metadata": {},
   "source": [
    "### Load the graph"
   ]
  },
  {
   "cell_type": "code",
   "execution_count": 6,
   "metadata": {},
   "outputs": [
    {
     "name": "stderr",
     "output_type": "stream",
     "text": [
      "100%|██████████| 29858/29858 [00:00<00:00, 60278.82it/s]\n"
     ]
    },
    {
     "name": "stdout",
     "output_type": "stream",
     "text": [
      "[    0     0     0 ... 29857 29857 29857]\n",
      "[   0    1    2 ... 1853  691  674]\n"
     ]
    }
   ],
   "source": [
    "dataset = 'gowalla'\n",
    "raw_data_root = osp.join(all_data_root, 'dataset/raw_' + dataset)\n",
    "E_src, E_dst = io.load_txt_adj_as_edges(osp.join(raw_data_root, 'train.txt'))\n",
    "print(E_src)\n",
    "print(E_dst)"
   ]
  },
  {
   "cell_type": "code",
   "execution_count": 7,
   "metadata": {},
   "outputs": [
    {
     "name": "stdout",
     "output_type": "stream",
     "text": [
      "# from_edges_to_csr ...\n",
      "# remove_repeated_edges ...\n",
      "## 0 edges are removed\n",
      "{'graph_type': 'user-item', 'num_users': 29858, 'num_items': 40981, 'num_nodes': 70839, 'num_edges': 810128}\n"
     ]
    }
   ],
   "source": [
    "info, indptr, indices = csr.from_edges_to_csr_with_info(\n",
    "    E_src, E_dst, graph_type='user-item'\n",
    ")\n",
    "print(info)"
   ]
  },
  {
   "attachments": {},
   "cell_type": "markdown",
   "metadata": {},
   "source": [
    "### Load the evaluation set"
   ]
  },
  {
   "cell_type": "markdown",
   "metadata": {},
   "source": []
  }
 ],
 "metadata": {
  "kernelspec": {
   "display_name": "songxrian-XGCN",
   "language": "python",
   "name": "xgcn"
  },
  "language_info": {
   "codemirror_mode": {
    "name": "ipython",
    "version": 3
   },
   "file_extension": ".py",
   "mimetype": "text/x-python",
   "name": "python",
   "nbconvert_exporter": "python",
   "pygments_lexer": "ipython3",
   "version": "3.9.12"
  },
  "orig_nbformat": 4
 },
 "nbformat": 4,
 "nbformat_minor": 2
}
