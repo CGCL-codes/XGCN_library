{
 "cells": [
  {
   "cell_type": "code",
   "execution_count": 1,
   "metadata": {},
   "outputs": [],
   "source": [
    "import XGCN\n",
    "from XGCN.data import io\n",
    "from XGCN.utils.utils import ensure_dir, set_random_seed\n",
    "import os.path as osp"
   ]
  },
  {
   "attachments": {},
   "cell_type": "markdown",
   "metadata": {},
   "source": [
    "## Prepare the raw data\n",
    "\n",
    "Here we present a user-item graph example. The used gowalla dataset can be found \n",
    "in our XGCN repository: ``data/raw_gowalla/``, which is copied from LightGCN's official code repository: \n",
    "https://github.com/gusye1234/LightGCN-PyTorch.\n",
    "\n",
    "We recommend to arrange the data with a clear directory structure. \n",
    "To get started, you may manually setup a ``XGCN_data`` directory as follows: \n",
    "(It's recommended to put your ``XGCN_data`` somewhere else than in this repository.)\n",
    "\n",
    "```\n",
    "XGCN_data\n",
    "└── dataset\n",
    "    └── raw_gowalla\n",
    "        ├── train.txt\n",
    "        └── test.txt\n",
    "```"
   ]
  },
  {
   "cell_type": "markdown",
   "metadata": {},
   "source": []
  }
 ],
 "metadata": {
  "kernelspec": {
   "display_name": "songxrian-XGCN",
   "language": "python",
   "name": "xgcn"
  },
  "language_info": {
   "codemirror_mode": {
    "name": "ipython",
    "version": 3
   },
   "file_extension": ".py",
   "mimetype": "text/x-python",
   "name": "python",
   "nbconvert_exporter": "python",
   "pygments_lexer": "ipython3",
   "version": "3.9.12"
  },
  "orig_nbformat": 4
 },
 "nbformat": 4,
 "nbformat_minor": 2
}
