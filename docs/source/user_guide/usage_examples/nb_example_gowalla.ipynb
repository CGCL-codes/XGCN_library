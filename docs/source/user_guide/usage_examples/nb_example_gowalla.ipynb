{
 "cells": [
  {
   "attachments": {},
   "cell_type": "markdown",
   "metadata": {},
   "source": [
    "# Example: gowalla\n",
    "## Prepare the Dataset Instance\n",
    "\n",
    "Here we present a user-item graph example. The used gowalla dataset can be found \n",
    "in our XGCN repository: ``data/raw_gowalla/``, which is copied from LightGCN's official code repository: \n",
    "https://github.com/gusye1234/LightGCN-PyTorch.\n",
    "\n",
    "We recommend to arrange the data with a clear directory structure. \n",
    "To get started, you may manually setup a ``XGCN_data`` directory as follows: \n",
    "(It's recommended to put your ``XGCN_data`` somewhere else than in this repository.)\n",
    "\n",
    "```\n",
    "XGCN_data\n",
    "└── dataset\n",
    "    └── raw_gowalla\n",
    "        ├── train.txt\n",
    "        └── test.txt\n",
    "```"
   ]
  },
  {
   "cell_type": "code",
   "execution_count": 1,
   "metadata": {},
   "outputs": [],
   "source": [
    "import XGCN\n",
    "from XGCN.data import io, csr\n",
    "from XGCN.utils.utils import ensure_dir, set_random_seed\n",
    "import os.path as osp"
   ]
  },
  {
   "cell_type": "code",
   "execution_count": 2,
   "metadata": {},
   "outputs": [],
   "source": [
    "# set your own all_data_root:\n",
    "all_data_root = '/home/sxr/code/XGCN_and_data/XGCN_data'"
   ]
  },
  {
   "attachments": {},
   "cell_type": "markdown",
   "metadata": {},
   "source": [
    "### Load the graph and the evaluation set"
   ]
  },
  {
   "cell_type": "code",
   "execution_count": 3,
   "metadata": {},
   "outputs": [
    {
     "name": "stderr",
     "output_type": "stream",
     "text": [
      "100%|██████████| 29858/29858 [00:00<00:00, 61243.08it/s]\n"
     ]
    },
    {
     "name": "stdout",
     "output_type": "stream",
     "text": [
      "[    0     0     0 ... 29857 29857 29857]\n",
      "[   0    1    2 ... 1853  691  674]\n"
     ]
    }
   ],
   "source": [
    "dataset = 'gowalla'\n",
    "raw_data_root = osp.join(all_data_root, 'dataset/raw_' + dataset)\n",
    "E_src, E_dst = io.load_txt_adj_as_edges(osp.join(raw_data_root, 'train.txt'))\n",
    "print(E_src)\n",
    "print(E_dst)"
   ]
  },
  {
   "cell_type": "code",
   "execution_count": 4,
   "metadata": {},
   "outputs": [
    {
     "name": "stdout",
     "output_type": "stream",
     "text": [
      "# from_edges_to_csr ...\n",
      "# remove_repeated_edges ...\n",
      "## 0 edges are removed\n",
      "{'graph_type': 'user-item', 'num_users': 29858, 'num_items': 40981, 'num_nodes': 70839, 'num_edges': 810128}\n"
     ]
    }
   ],
   "source": [
    "info, indptr, indices = csr.from_edges_to_csr_with_info(\n",
    "    E_src, E_dst, graph_type='user-item'\n",
    ")\n",
    "print(info)"
   ]
  },
  {
   "cell_type": "code",
   "execution_count": 5,
   "metadata": {},
   "outputs": [
    {
     "name": "stdout",
     "output_type": "stream",
     "text": [
      "(<-- don't mind if any UserWarning pops up)\n"
     ]
    },
    {
     "name": "stderr",
     "output_type": "stream",
     "text": [
      "/home/sxr/code/XGCN_and_data/XGCN_library/XGCN/data/io/txt.py:45: UserWarning: loadtxt: input contained no data: \"<_io.TextIOWrapper name='/home/sxr/code/XGCN_and_data/XGCN_data/dataset/raw_gowalla/test.txt' mode='r' encoding='UTF-8'>\"\n",
      "  x = np.loadtxt(f, max_rows=1, dtype=np.int32, ndmin=1)\n"
     ]
    }
   ],
   "source": [
    "test_set = io.from_txt_adj_to_adj_eval_set(osp.join(raw_data_root, 'test.txt'))"
   ]
  },
  {
   "attachments": {},
   "cell_type": "markdown",
   "metadata": {},
   "source": [
    "### Save the Dataset Instance"
   ]
  },
  {
   "cell_type": "code",
   "execution_count": 8,
   "metadata": {},
   "outputs": [],
   "source": [
    "data_root = osp.join(all_data_root, 'dataset/instance_' + dataset)\n",
    "ensure_dir(data_root)\n",
    "\n",
    "io.save_yaml(osp.join(data_root, 'info.yaml'), info)\n",
    "io.save_pickle(osp.join(data_root, 'indptr.pkl'), indptr)\n",
    "io.save_pickle(osp.join(data_root, 'indices.pkl'), indices)\n",
    "io.save_pickle(osp.join(data_root, 'test_set.pkl'), test_set)"
   ]
  },
  {
   "attachments": {},
   "cell_type": "markdown",
   "metadata": {},
   "source": [
    "## Run LightGCN"
   ]
  },
  {
   "cell_type": "code",
   "execution_count": 9,
   "metadata": {},
   "outputs": [
    {
     "data": {
      "text/plain": [
       "{'data_root': '',\n",
       " 'results_root': '',\n",
       " 'epochs': 200,\n",
       " 'val_freq': 1,\n",
       " 'key_score_metric': 'r100',\n",
       " 'convergence_threshold': 20,\n",
       " 'Dataset_type': 'NodeListDataset',\n",
       " 'num_workers': 0,\n",
       " 'NodeListDataset_type': 'LinkDataset',\n",
       " 'pos_sampler': 'ObservedEdges_Sampler',\n",
       " 'neg_sampler': 'RandomNeg_Sampler',\n",
       " 'num_neg': 1,\n",
       " 'BatchSampleIndicesGenerator_type': 'SampleIndicesWithReplacement',\n",
       " 'train_batch_size': 1024,\n",
       " 'epoch_sample_ratio': 0.1,\n",
       " 'val_evaluator': '',\n",
       " 'val_batch_size': 256,\n",
       " 'file_val_set': '',\n",
       " 'test_evaluator': '',\n",
       " 'test_batch_size': 256,\n",
       " 'file_test_set': '',\n",
       " 'model': 'LightGCN',\n",
       " 'seed': 1999,\n",
       " 'graph_device': 'cuda:0',\n",
       " 'emb_table_device': 'cuda:0',\n",
       " 'gnn_device': 'cuda:0',\n",
       " 'out_emb_table_device': 'cuda:0',\n",
       " 'forward_mode': 'full_graph',\n",
       " 'from_pretrained': 0,\n",
       " 'file_pretrained_emb': '',\n",
       " 'freeze_emb': 0,\n",
       " 'use_sparse': 0,\n",
       " 'emb_dim': 64,\n",
       " 'emb_init_std': 0.1,\n",
       " 'emb_lr': 0.005,\n",
       " 'num_gcn_layers': 2,\n",
       " 'stack_layers': 1,\n",
       " 'loss_type': 'bpr',\n",
       " 'L2_reg_weight': 0.0}"
      ]
     },
     "execution_count": 9,
     "metadata": {},
     "output_type": "execute_result"
    }
   ],
   "source": [
    "config_file = '/home/wuyao/songxiran/code/XGCN_coda_and_data/XGCN_library/config/LightGCN-full_graph-config.yaml'\n",
    "config = io.load_yaml(config_file)\n",
    "config"
   ]
  },
  {
   "cell_type": "code",
   "execution_count": 11,
   "metadata": {},
   "outputs": [],
   "source": [
    "config['data_root'] = data_root\n",
    "results_root = osp.join(all_data_root, 'model_output', dataset, 'LightGCN')\n",
    "ensure_dir(results_root)\n",
    "config['results_root'] = results_root\n",
    "\n",
    "config['val_evaluator'] = 'WholeGraph_MultiPos_Evaluator'\n",
    "config['file_val_set'] = osp.join(data_root, 'test_set.pkl')\n",
    "config['test_evaluator'] = 'WholeGraph_MultiPos_Evaluator'\n",
    "config['file_test_set'] = osp.join(data_root, 'test_set.pkl')\n",
    "\n",
    "config['num_gcn_layers'] = 3\n",
    "config['emb_lr'] = 0.001\n",
    "config['L2_reg_weight'] = 1e-4\n",
    "\n",
    "config['epochs'] = 5  # for demostration"
   ]
  },
  {
   "cell_type": "code",
   "execution_count": 12,
   "metadata": {},
   "outputs": [],
   "source": [
    "io.save_yaml(osp.join(results_root, 'config.yaml'), config)"
   ]
  },
  {
   "cell_type": "code",
   "execution_count": 13,
   "metadata": {},
   "outputs": [],
   "source": [
    "seed = config['seed'] if 'seed' in config else 1999\n",
    "set_random_seed(seed)"
   ]
  },
  {
   "cell_type": "code",
   "execution_count": 14,
   "metadata": {},
   "outputs": [],
   "source": [
    "data = {}  # containing some global data objects\n",
    "\n",
    "model = XGCN.build_Model(config, data)\n",
    "\n",
    "train_dl = XGCN.build_DataLoader(config, data)\n",
    "\n",
    "val_evaluator = XGCN.build_val_Evaluator(config, data, model)\n",
    "test_evaluator = XGCN.build_test_Evaluator(config, data, model)\n",
    "\n",
    "trainer = XGCN.build_Trainer(config, data, model, train_dl,\n",
    "                                val_evaluator, test_evaluator)"
   ]
  },
  {
   "cell_type": "code",
   "execution_count": null,
   "metadata": {},
   "outputs": [],
   "source": [
    "trainer.train_and_test()"
   ]
  },
  {
   "attachments": {},
   "cell_type": "markdown",
   "metadata": {},
   "source": [
    "## Run xGCN"
   ]
  },
  {
   "cell_type": "markdown",
   "metadata": {},
   "source": []
  }
 ],
 "metadata": {
  "kernelspec": {
   "display_name": "XGCN",
   "language": "python",
   "name": "xgcn"
  },
  "language_info": {
   "codemirror_mode": {
    "name": "ipython",
    "version": 3
   },
   "file_extension": ".py",
   "mimetype": "text/x-python",
   "name": "python",
   "nbconvert_exporter": "python",
   "pygments_lexer": "ipython3",
   "version": "3.8.16"
  },
  "orig_nbformat": 4
 },
 "nbformat": 4,
 "nbformat_minor": 2
}
