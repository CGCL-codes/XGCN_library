{
 "cells": [
  {
   "cell_type": "code",
   "execution_count": 1,
   "metadata": {},
   "outputs": [],
   "source": [
    "import sys\n",
    "sys.path.append('/home/sxr/code/xgcn')"
   ]
  },
  {
   "cell_type": "code",
   "execution_count": 2,
   "metadata": {},
   "outputs": [],
   "source": [
    "from utils import io"
   ]
  },
  {
   "cell_type": "code",
   "execution_count": 3,
   "metadata": {},
   "outputs": [],
   "source": [
    "import matplotlib.pyplot as plt\n",
    "import numpy as np"
   ]
  },
  {
   "cell_type": "code",
   "execution_count": 4,
   "metadata": {},
   "outputs": [],
   "source": [
    "def get_ps(H):\n",
    "    H1 = (H == 1) | (H == 0)\n",
    "    H2 = (H == 2)\n",
    "    H3 = (H == 3)\n",
    "    H4 = (H == -1)\n",
    "    num_case_study_nodes = len(H)\n",
    "    p1 = []\n",
    "    p2 = []\n",
    "    p3 = []\n",
    "    p4 = []\n",
    "    topk_list = np.array(range(10, 101, 10))\n",
    "    for topk in topk_list:\n",
    "        num_totall = (num_case_study_nodes * topk)\n",
    "        p1.append(H1[:,:topk].sum() / num_totall)\n",
    "        p2.append(H2[:,:topk].sum() / num_totall)\n",
    "        p3.append(H3[:,:topk].sum() / num_totall)\n",
    "        p4.append(H4[:,:topk].sum() / num_totall)\n",
    "    p1 = np.array(p1)\n",
    "    p2 = np.array(p2)\n",
    "    p3 = np.array(p3)\n",
    "    p4 = np.array(p4)\n",
    "    return p1, p2, p3, p4"
   ]
  },
  {
   "cell_type": "code",
   "execution_count": 7,
   "metadata": {},
   "outputs": [],
   "source": [
    "H_ppr = io.load_pickle('/home/sxr/data/social_and_user_item/model_outputs/gnn_pokec/ppr/top100-reco/top_reco_hops.pkl')\n",
    "H_pprgo = io.load_pickle('/home/sxr/data/social_and_user_item/model_outputs/gnn_pokec/pprgo/[new_ppr][lr0.005][bpr][reg0]/top100-reco/top_reco_hops.pkl')"
   ]
  },
  {
   "cell_type": "code",
   "execution_count": 9,
   "metadata": {},
   "outputs": [],
   "source": [
    "ps_ppr = get_ps(H_ppr)\n",
    "ps_pprgo = get_ps(H_pprgo)"
   ]
  },
  {
   "cell_type": "code",
   "execution_count": 11,
   "metadata": {},
   "outputs": [],
   "source": [
    "font_legend = {\n",
    "    'family': 'Times New Roman',\n",
    "    'weight': 'normal',\n",
    "    'size': 16,\n",
    "}\n",
    "font_axis_label = {\n",
    "    'family': 'Times New Roman',\n",
    "    'weight': 'normal',\n",
    "    'size': 20,\n",
    "}\n",
    "\n",
    "xtick = np.linspace(0, 2, 20)\n",
    "\n",
    "def set_axis_font(ax):\n",
    "    ax.tick_params(labelsize=16)\n",
    "    labels = ax.get_xticklabels() + ax.get_yticklabels()\n",
    "    for label in labels:\n",
    "        label.set_fontname('Times New Roman')\n",
    "\n",
    "def set_axis_number(ax, hop=2):\n",
    "#     ax.xaxis.set_major_locator(plt.MultipleLocator(hop))\n",
    "#     ax.xaxis.set_major_formatter(plt.FormatStrFormatter('%1.1f'))\n",
    "    pass\n",
    "\n",
    "#####################\n",
    "\n",
    "font_legend_down = {\n",
    "    'family': 'Times New Roman',\n",
    "    'weight': 'normal',\n",
    "    'size': 16,\n",
    "}\n",
    "font_axis_label_down = {\n",
    "    'family': 'Times New Roman',\n",
    "    'weight': 'normal',\n",
    "    'size': 20,\n",
    "}\n",
    "\n",
    "xtick = np.linspace(0, 2, 20)\n",
    "\n",
    "def set_axis_font_down(ax):\n",
    "    ax.tick_params(labelsize=16)\n",
    "    labels = ax.get_xticklabels() + ax.get_yticklabels()\n",
    "    for label in labels:\n",
    "        label.set_fontname('Times New Roman')\n",
    "\n",
    "def set_axis_number_down(ax, hop=2):\n",
    "    ax.xaxis.set_major_locator(plt.MultipleLocator(hop))\n",
    "    ax.xaxis.set_major_formatter(plt.FormatStrFormatter('%1.1f'))\n",
    "\n",
    "    \n",
    "label_pb = 'PPRGo'\n",
    "label_pa = 'PPRGo + SS'\n",
    "label_lb = 'LightGCN'\n",
    "label_la = 'LightGCN + SS'\n",
    "\n",
    "style_dict_density = {\n",
    "    'color':{\n",
    "        label_lb:'g',\n",
    "        label_la:'g',\n",
    "        label_pb:'#CC5500',\n",
    "        label_pa:'#CC5500',\n",
    "    },\n",
    "    'style':['--','-','--','-']\n",
    "}\n",
    "font_legend_density = {\n",
    "    'family': 'Times New Roman',\n",
    "    'weight': 'normal',\n",
    "    'size': 11.5,\n",
    "}\n",
    "font_axis_label_density = {\n",
    "    'family': 'Times New Roman',\n",
    "    'weight': 'normal',\n",
    "    'size': 20,\n",
    "}\n",
    "\n",
    "xtick = np.linspace(0, 2, 20)\n",
    "\n",
    "def set_axis_font_density(ax):\n",
    "    ax.tick_params(labelsize=16)\n",
    "    labels = ax.get_xticklabels() + ax.get_yticklabels()\n",
    "    for label in labels:\n",
    "        label.set_fontname('Times New Roman')\n",
    "\n",
    "def set_axis_number_density(ax, hop=2):\n",
    "    ax.xaxis.set_major_locator(plt.MultipleLocator(hop))\n",
    "#     ax.xaxis.set_major_formatter(plt.FormatStrFormatter('%1.1f'))\n",
    "\n",
    "color1 = '#D5E4A299'\n",
    "color2 = '#D2AF8199'\n",
    "color3 = '#709AE199'\n",
    "color4 = '#FED43999'\n",
    "\n",
    "color1 = '#29858E'\n",
    "color2 = '#72CDB6'\n",
    "color3 = '#C8FED3'\n",
    "color4 = '#FEFEA0'\n",
    "\n",
    "colors = [color1, color2, color3, color4]"
   ]
  },
  {
   "cell_type": "code",
   "execution_count": 12,
   "metadata": {},
   "outputs": [],
   "source": [
    "def plot_bar(ax, ps, colors):\n",
    "    p1, p2, p3, p4 = ps\n",
    "    topk_list = (np.arange(10) + 1) * 10\n",
    "    width=5\n",
    "    ax.bar(topk_list, p1, width, color=colors[0], label='1-hop')\n",
    "    ax.bar(topk_list, p2, width, color=colors[1], bottom=p1, label='2-hop')\n",
    "    ax.bar(topk_list, p3, width, color=colors[2], bottom=p1+p2, label='3-hop')\n",
    "    ax.bar(topk_list, p4, width, color=colors[3], bottom=p1+p2+p3, label='> 3-hop')"
   ]
  },
  {
   "cell_type": "code",
   "execution_count": 13,
   "metadata": {},
   "outputs": [
    {
     "name": "stderr",
     "output_type": "stream",
     "text": [
      "findfont: Font family ['Times New Roman'] not found. Falling back to DejaVu Sans.\n",
      "findfont: Font family ['Times New Roman'] not found. Falling back to DejaVu Sans.\n"
     ]
    },
    {
     "data": {
      "image/png": "[encoded data removed]",
      "text/plain": [
       "<Figure size 720x288 with 2 Axes>"
      ]
     },
     "metadata": {
      "needs_background": "light"
     },
     "output_type": "display_data"
    }
   ],
   "source": [
    "fig, axs = plt.subplots(1 , 2, figsize=(10, 4), sharey=True)\n",
    "\n",
    "plt.subplots_adjust(\n",
    "#     left=0.125,\n",
    "#     bottom=0.1, \n",
    "#     right=0.9, \n",
    "#     top=0.9, \n",
    "    wspace=0.15,\n",
    "#     hspace=0.35,\n",
    ")\n",
    "\n",
    "ax = axs[0]\n",
    "\n",
    "plot_bar(ax, ps_ppr, colors)\n",
    "# ax.legend(prop=font_legend, frameon=True, ncol=1)\n",
    "ax.legend(prop=font_legend, frameon=False, ncol=4, bbox_to_anchor=(0.15, 1.0))\n",
    "# ax.legend()\n",
    "ax.set_ylim(0,1)\n",
    "# ax0.set_xticklabels(name, rotation=90)\n",
    "ax.set_ylabel('percentage', font_axis_label)\n",
    "ax.set_xlabel('top-k recommendation', font_axis_label)\n",
    "ax.set_title('(a) PPR', font_axis_label, y=-0.33)\n",
    "set_axis_number(ax)\n",
    "set_axis_font(ax)\n",
    "set_axis_number_density(ax, hop=10)\n",
    "\n",
    "\n",
    "ax = axs[1]\n",
    "\n",
    "plot_bar(ax, ps_pprgo, colors)\n",
    "# ax.legend(prop=font_legend, frameon=True, ncol=1)\n",
    "\n",
    "ax.set_xlabel('top-k recommendation', font_axis_label)\n",
    "ax.set_title('(b) SSNet', font_axis_label, y=-0.33)\n",
    "set_axis_number_density(ax, hop=10)\n",
    "set_axis_number(ax)\n",
    "set_axis_font(ax)\n",
    "\n",
    "# plt.title('livejournal-ppr-hops')\n",
    "# plt.savefig('test2.pdf', dpi=300,  bbox_inches='tight')\n",
    "plt.show()"
   ]
  },
  {
   "cell_type": "code",
   "execution_count": null,
   "metadata": {},
   "outputs": [],
   "source": []
  }
 ],
 "metadata": {
  "kernelspec": {
   "display_name": "Python 3.8.12 ('pytorch': conda)",
   "language": "python",
   "name": "python3"
  },
  "language_info": {
   "codemirror_mode": {
    "name": "ipython",
    "version": 3
   },
   "file_extension": ".py",
   "mimetype": "text/x-python",
   "name": "python",
   "nbconvert_exporter": "python",
   "pygments_lexer": "ipython3",
   "version": "3.8.12"
  },
  "orig_nbformat": 4,
  "vscode": {
   "interpreter": {
    "hash": "4edc5a51af9904568d2a8c00807ee6bbdd5dc036e24a26620ba710eb62473111"
   }
  }
 },
 "nbformat": 4,
 "nbformat_minor": 2
}
