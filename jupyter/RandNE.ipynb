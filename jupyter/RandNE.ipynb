{
 "cells": [
  {
   "cell_type": "code",
   "execution_count": 1,
   "metadata": {},
   "outputs": [],
   "source": [
    "import sys\n",
    "sys.path.append('..')"
   ]
  },
  {
   "cell_type": "code",
   "execution_count": 2,
   "metadata": {},
   "outputs": [],
   "source": [
    "from utils import io\n",
    "from utils.utils import ensure_dir, gram_schmidt"
   ]
  },
  {
   "cell_type": "code",
   "execution_count": 3,
   "metadata": {},
   "outputs": [],
   "source": [
    "import numpy as np\n",
    "import torch\n",
    "import dgl\n",
    "import os.path as osp"
   ]
  },
  {
   "cell_type": "code",
   "execution_count": 4,
   "metadata": {},
   "outputs": [],
   "source": [
    "def print_abs_mean_std(X):\n",
    "    abs_X = torch.abs(X)\n",
    "    print(abs_X.mean(), abs_X.std())"
   ]
  },
  {
   "cell_type": "code",
   "execution_count": 5,
   "metadata": {},
   "outputs": [],
   "source": [
    "dataset = 'livejournal'\n",
    "data_root = 'datasets/instance_' + dataset"
   ]
  },
  {
   "cell_type": "code",
   "execution_count": 6,
   "metadata": {},
   "outputs": [],
   "source": [
    "hp = {\n",
    "    'emb_dim': 64,\n",
    "    'use_lightgcn_coe': False,\n",
    "}"
   ]
  },
  {
   "cell_type": "code",
   "execution_count": 7,
   "metadata": {},
   "outputs": [],
   "source": [
    "info = io.load_yaml(osp.join(data_root, 'info.yaml'))\n",
    "num_nodes = info['num_nodes']\n",
    "num_edges = info['num_edges']\n",
    "\n",
    "E_src = io.load_pickle(osp.join(data_root, 'train_undi_csr_src_indices.pkl'))\n",
    "E_dst = io.load_pickle(osp.join(data_root, 'train_undi_csr_indices.pkl'))\n",
    "indptr = io.load_pickle(osp.join(data_root, 'train_undi_csr_indptr.pkl'))\n",
    "\n",
    "if hp['use_lightgcn_coe']:\n",
    "    all_degrees = indptr[1:] - indptr[:-1]\n",
    "    d_src = all_degrees[E_src]\n",
    "    d_dst = all_degrees[E_dst]\n",
    "    edge_weights = torch.FloatTensor(1 / (d_src * d_dst)).sqrt()\n",
    "    del all_degrees, d_src, d_dst\n",
    "else:\n",
    "    edge_weights = torch.ones(len(E_src))\n",
    "\n",
    "del indptr"
   ]
  },
  {
   "cell_type": "code",
   "execution_count": 8,
   "metadata": {},
   "outputs": [],
   "source": [
    "idx = torch.stack((torch.LongTensor(E_src), torch.LongTensor(E_dst)))\n",
    "A = torch.sparse_coo_tensor(\n",
    "    idx, edge_weights, (num_nodes, num_nodes)\n",
    ")"
   ]
  },
  {
   "cell_type": "code",
   "execution_count": 9,
   "metadata": {},
   "outputs": [],
   "source": [
    "U0 = torch.FloatTensor(size=(num_nodes, hp['emb_dim']))"
   ]
  },
  {
   "cell_type": "code",
   "execution_count": 10,
   "metadata": {},
   "outputs": [],
   "source": [
    "hp['std'] = 1 / hp['emb_dim']\n",
    "# hp['std'] = 1.0"
   ]
  },
  {
   "cell_type": "code",
   "execution_count": 56,
   "metadata": {},
   "outputs": [
    {
     "data": {
      "text/plain": [
       "tensor([[-0.0055,  0.0198,  0.0026,  ...,  0.0182,  0.0166, -0.0118],\n",
       "        [-0.0095, -0.0167,  0.0303,  ..., -0.0068, -0.0296, -0.0200],\n",
       "        [-0.0169,  0.0257, -0.0029,  ..., -0.0186, -0.0044, -0.0043],\n",
       "        ...,\n",
       "        [ 0.0247, -0.0143,  0.0028,  ..., -0.0095,  0.0010, -0.0078],\n",
       "        [ 0.0139,  0.0005, -0.0217,  ..., -0.0137,  0.0075, -0.0213],\n",
       "        [-0.0250, -0.0013, -0.0162,  ..., -0.0347,  0.0148, -0.0303]])"
      ]
     },
     "execution_count": 56,
     "metadata": {},
     "output_type": "execute_result"
    }
   ],
   "source": [
    "torch.nn.init.normal_(U0, 0, hp['std'])"
   ]
  },
  {
   "cell_type": "code",
   "execution_count": 57,
   "metadata": {},
   "outputs": [],
   "source": [
    "hp['orthogonal'] = True"
   ]
  },
  {
   "cell_type": "code",
   "execution_count": 58,
   "metadata": {},
   "outputs": [
    {
     "name": "stdout",
     "output_type": "stream",
     "text": [
      "using gram_schmidt to make columns orthogonal\n"
     ]
    }
   ],
   "source": [
    "if hp['orthogonal']:\n",
    "    print(\"using gram_schmidt to make columns orthogonal\")\n",
    "    U0 = gram_schmidt(U0.T).T"
   ]
  },
  {
   "cell_type": "code",
   "execution_count": 59,
   "metadata": {},
   "outputs": [],
   "source": [
    "hp['layers'] = 3"
   ]
  },
  {
   "cell_type": "code",
   "execution_count": 60,
   "metadata": {},
   "outputs": [
    {
     "name": "stdout",
     "output_type": "stream",
     "text": [
      "tensor(0.0004) tensor(0.0003)\n",
      "tensor(0.0011) tensor(0.0015)\n",
      "tensor(0.0222) tensor(0.1332)\n",
      "tensor(3.0295) tensor(49.2215)\n"
     ]
    }
   ],
   "source": [
    "Us = [U0]\n",
    "print_abs_mean_std(U0)\n",
    "# propagation\n",
    "for i in range(hp['layers']):\n",
    "    U = torch.sparse.mm(A, Us[i])\n",
    "    print_abs_mean_std(U)\n",
    "    Us.append(U)"
   ]
  },
  {
   "cell_type": "code",
   "execution_count": 61,
   "metadata": {},
   "outputs": [],
   "source": [
    "hp['alpha'] = [1, 1, 1e-1, 1e-2]\n",
    "# hp['alpha'] = [0, 0, 0, 1]"
   ]
  },
  {
   "cell_type": "code",
   "execution_count": 62,
   "metadata": {},
   "outputs": [],
   "source": [
    "out_emb_table = torch.zeros(size=U0.shape)\n",
    "alpha = hp['alpha']\n",
    "for i, U in enumerate(Us):\n",
    "    out_emb_table += alpha[i] * U"
   ]
  },
  {
   "cell_type": "code",
   "execution_count": 63,
   "metadata": {},
   "outputs": [],
   "source": [
    "results_dir = 'alpha_1_1_1e-1_1e-2'\n",
    "results_root = osp.join('model_outputs/gnn_' + dataset,\n",
    "                        'randne', results_dir)\n",
    "ensure_dir(results_root)\n",
    "io.save_yaml(osp.join(results_root, 'config.yaml'), hp)\n",
    "torch.save(out_emb_table, osp.join(results_root, 'out_emb_table.pt'))"
   ]
  },
  {
   "cell_type": "code",
   "execution_count": 64,
   "metadata": {},
   "outputs": [
    {
     "name": "stdout",
     "output_type": "stream",
     "text": [
      "tensor(0.0327) tensor(0.5047)\n"
     ]
    }
   ],
   "source": [
    "print_abs_mean_std(out_emb_table)"
   ]
  },
  {
   "cell_type": "code",
   "execution_count": null,
   "metadata": {},
   "outputs": [],
   "source": []
  }
 ],
 "metadata": {
  "interpreter": {
   "hash": "7e1642e9eb7cf8b8e2de94861677898078f241b843a605e07f74e2f19737f8d1"
  },
  "kernelspec": {
   "display_name": "pytorch",
   "language": "python",
   "name": "python3"
  },
  "language_info": {
   "codemirror_mode": {
    "name": "ipython",
    "version": 3
   },
   "file_extension": ".py",
   "mimetype": "text/x-python",
   "name": "python",
   "nbconvert_exporter": "python",
   "pygments_lexer": "ipython3",
   "version": "3.9.10"
  }
 },
 "nbformat": 4,
 "nbformat_minor": 4
}
