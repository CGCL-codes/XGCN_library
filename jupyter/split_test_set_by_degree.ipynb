{
 "cells": [
  {
   "cell_type": "code",
   "execution_count": 2,
   "metadata": {},
   "outputs": [],
   "source": [
    "import sys\n",
    "sys.path.append('..')"
   ]
  },
  {
   "cell_type": "code",
   "execution_count": 3,
   "metadata": {},
   "outputs": [],
   "source": [
    "from utils import io"
   ]
  },
  {
   "cell_type": "code",
   "execution_count": 4,
   "metadata": {},
   "outputs": [],
   "source": [
    "import numpy as np\n",
    "import os.path as osp"
   ]
  },
  {
   "cell_type": "code",
   "execution_count": 39,
   "metadata": {},
   "outputs": [],
   "source": [
    "data_root = '/home/sxr/data/social_and_user_item/datasets/instance_pokec'"
   ]
  },
  {
   "cell_type": "code",
   "execution_count": 40,
   "metadata": {},
   "outputs": [],
   "source": [
    "indptr = io.load_pickle(osp.join(data_root, 'train_csr_indptr.pkl'))\n",
    "degrees = indptr[1:] - indptr[:-1]"
   ]
  },
  {
   "cell_type": "code",
   "execution_count": 41,
   "metadata": {},
   "outputs": [],
   "source": [
    "test_set = io.load_pickle(osp.join(data_root, 'test.pkl'))\n",
    "src_list = test_set['src']\n",
    "pos_list = test_set['pos_list']"
   ]
  },
  {
   "cell_type": "code",
   "execution_count": 42,
   "metadata": {},
   "outputs": [
    {
     "data": {
      "text/plain": [
       "array([     1, 131078,     10, ..., 393199, 393201, 262133], dtype=int32)"
      ]
     },
     "execution_count": 42,
     "metadata": {},
     "output_type": "execute_result"
    }
   ],
   "source": [
    "src_list"
   ]
  },
  {
   "cell_type": "code",
   "execution_count": 43,
   "metadata": {},
   "outputs": [],
   "source": [
    "src_degrees = degrees[src_list]"
   ]
  },
  {
   "cell_type": "code",
   "execution_count": 44,
   "metadata": {},
   "outputs": [
    {
     "name": "stdout",
     "output_type": "stream",
     "text": [
      "10 7.0\n",
      "20 10.0\n",
      "30 14.0\n",
      "40 18.0\n",
      "50 23.0\n",
      "60 30.0\n",
      "70 38.0\n",
      "80 51.0\n",
      "90 76.0\n",
      "100 8309.0\n"
     ]
    }
   ],
   "source": [
    "p = []\n",
    "src_list_dict = {}\n",
    "pos_list_dict = {}\n",
    "degree_info = []\n",
    "for k in range(1, 11):\n",
    "    pk = np.percentile(src_degrees, k*10)\n",
    "    degree_info.append((k*10, pk))\n",
    "    p.append(pk)\n",
    "    print(k*10, pk)\n",
    "    \n",
    "    key = 'p' + str(k*10)\n",
    "    src_list_dict[key] = []\n",
    "    pos_list_dict[key] = []\n",
    "degree_info = np.array(degree_info)\n",
    "np.savetxt(osp.join(data_root, 'test_set-src-outdegree-percentile.txt'), degree_info, fmt='%.1f')"
   ]
  },
  {
   "cell_type": "code",
   "execution_count": 45,
   "metadata": {},
   "outputs": [
    {
     "data": {
      "text/plain": [
       "48660"
      ]
     },
     "execution_count": 45,
     "metadata": {},
     "output_type": "execute_result"
    }
   ],
   "source": [
    "len(src_list)"
   ]
  },
  {
   "cell_type": "code",
   "execution_count": 46,
   "metadata": {},
   "outputs": [],
   "source": [
    "cnt = 0\n",
    "for s, pos in zip(src_list, pos_list):\n",
    "    d = degrees[s]\n",
    "    for k in range(1, 11):\n",
    "        if d <= p[k - 1]:\n",
    "            key = 'p' + str(k*10)\n",
    "            src_list_dict[key].append(s)\n",
    "            pos_list_dict[key].append(pos)\n",
    "            cnt += 1\n",
    "            break\n",
    "assert cnt == len(src_list)"
   ]
  },
  {
   "cell_type": "code",
   "execution_count": 47,
   "metadata": {},
   "outputs": [],
   "source": [
    "for key in src_list_dict:\n",
    "    src_list_dict[key] = np.array(src_list_dict[key])"
   ]
  },
  {
   "cell_type": "code",
   "execution_count": 48,
   "metadata": {},
   "outputs": [
    {
     "data": {
      "text/plain": [
       "{'p10': array([ 393233,  524349,  655443, ..., 1048509,  786373, 1048544],\n",
       "       dtype=int32),\n",
       " 'p20': array([ 131078, 1048643,  786560, ...,  261990,  917446, 1441744],\n",
       "       dtype=int32),\n",
       " 'p30': array([ 917533, 1048609,  262213, ...,  786345,  786352,  524247],\n",
       "       dtype=int32),\n",
       " 'p40': array([262276, 524464, 524490, ..., 524204, 524221, 917486], dtype=int32),\n",
       " 'p50': array([ 524341, 1048741,     166, ...,  786329,  655285,  131008],\n",
       "       dtype=int32),\n",
       " 'p60': array([ 131088,  786477,  655424, ...,  917323, 1048511,  917478],\n",
       "       dtype=int32),\n",
       " 'p70': array([262186, 524337, 655418, ..., 130962, 393199, 393201], dtype=int32),\n",
       " 'p80': array([    10, 393243,     62, ..., 917420, 786351, 262107], dtype=int32),\n",
       " 'p90': array([524314, 262173,     65, ..., 393103, 393178, 655324], dtype=int32),\n",
       " 'p100': array([     1, 131083, 262204, ..., 130970, 262045, 262133], dtype=int32)}"
      ]
     },
     "execution_count": 48,
     "metadata": {},
     "output_type": "execute_result"
    }
   ],
   "source": [
    "src_list_dict"
   ]
  },
  {
   "cell_type": "code",
   "execution_count": 49,
   "metadata": {},
   "outputs": [],
   "source": [
    "for key in src_list_dict:\n",
    "    io.save_pickle(osp.join(data_root, 'test-' + key + '.pkl'), \n",
    "        {\n",
    "            'src': src_list_dict[key],\n",
    "            'pos_list': pos_list_dict[key]\n",
    "        }\n",
    "    )"
   ]
  },
  {
   "cell_type": "code",
   "execution_count": null,
   "metadata": {},
   "outputs": [],
   "source": []
  }
 ],
 "metadata": {
  "interpreter": {
   "hash": "4edc5a51af9904568d2a8c00807ee6bbdd5dc036e24a26620ba710eb62473111"
  },
  "kernelspec": {
   "display_name": "Python 3.8.12 ('pytorch': conda)",
   "language": "python",
   "name": "python3"
  },
  "language_info": {
   "codemirror_mode": {
    "name": "ipython",
    "version": 3
   },
   "file_extension": ".py",
   "mimetype": "text/x-python",
   "name": "python",
   "nbconvert_exporter": "python",
   "pygments_lexer": "ipython3",
   "version": "3.8.12"
  },
  "orig_nbformat": 4
 },
 "nbformat": 4,
 "nbformat_minor": 2
}
